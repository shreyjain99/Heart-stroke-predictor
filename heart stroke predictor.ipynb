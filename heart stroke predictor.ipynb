{
 "cells": [
  {
   "cell_type": "markdown",
   "metadata": {
    "colab_type": "text",
    "id": "kPeHwRH16jai"
   },
   "source": [
    "# HEART STROKE PREDICTOR"
   ]
  },
  {
   "cell_type": "markdown",
   "metadata": {},
   "source": [
    "SUMMARY --\n",
    "\n",
    "*   PERFORMED EDA AND VISUALIZATION ON DATA \n",
    "*   BALANCING DATASET USING OVERSAMPLING TECHNIQUE SMOTE\n",
    "*   PERFORMED DIMENSIONALITY REDUCTION(PCA) TO REDUCE DIMENSIONS(ELBOW METHOD) AS WELL AS VIEWING DATA BY REDUCING DIMENSIONS\n",
    "*   FITTING MODELS ON OVERSAMPLED DATA(LOGISTIC ,SVM RBF,SVM POLY\n",
    "KNN,RANDOM FOREST)\n",
    "*   SCALING THE DATA FOR NEURAL NETWORKS(3 DIFFERENT NEURAL NETWORKS OF DIFFERENT ARCHITECTURE USED)(EARLY STOPPING USED)\n",
    "*   FITTING MODELS ON OVERSAMPLED SCALED DATA(LOGISTIC ,SVM RBF,\n",
    "RANDOM FOREST,KNN, GAUSSIAN NAIVE BAYES)"
   ]
  },
  {
   "cell_type": "raw",
   "metadata": {},
   "source": [
    "TEST ACCURACY TABLE OF ALL DIFFERENT MODELS \n",
    "\n",
    "1) OVERSAMPLED DATA \n",
    "\n",
    "  LOGISTIC REGRESSION ---76.8%\n",
    "  SVM RBF ---------------75.9%\n",
    "  SVM POLY --------------76.5%\n",
    "  KNN -------------------90.9%\n",
    "  RANDOM FOREST ---------98.9%  \n",
    "  \n",
    "\n",
    "2) OVERSAMPLED AND SCALED DATA \n",
    "\n",
    "  NEURAL NET MODEL1 -----91.8%\n",
    "  NEURAL NET MODEL2 -----94.0%\n",
    "  NEURAL NET MODEL3 -----95.5%\n",
    "  LOGISTIC REGRESSION ---77.3%\n",
    "  SVM RBF ---------------92.8%\n",
    "  RANDOM FOREST ---------98.9%\n",
    "  NAIVE BAYES -----------77.2%\n",
    "  KNN -------------------96.3%"
   ]
  },
  {
   "cell_type": "markdown",
   "metadata": {},
   "source": [
    "------------------------------------------------------------------------------------------------------------------"
   ]
  },
  {
   "cell_type": "markdown",
   "metadata": {},
   "source": [
    "## IMPORTING LIBRARIES"
   ]
  },
  {
   "cell_type": "code",
   "execution_count": 83,
   "metadata": {
    "colab": {},
    "colab_type": "code",
    "executionInfo": {
     "elapsed": 865,
     "status": "ok",
     "timestamp": 1593743968772,
     "user": {
      "displayName": "SHREY JAIN",
      "photoUrl": "",
      "userId": "13312361493542215859"
     },
     "user_tz": -330
    },
    "id": "QMLJrDGn6QJ4"
   },
   "outputs": [],
   "source": [
    "import numpy as np\n",
    "import pandas as pd\n",
    "import seaborn as sns\n",
    "import matplotlib.pyplot as plt\n",
    "from imblearn.over_sampling import SMOTE\n",
    "from sklearn.decomposition import PCA\n",
    "from sklearn.model_selection import train_test_split\n",
    "from sklearn.preprocessing import StandardScaler\n",
    "from sklearn.linear_model import LogisticRegression\n",
    "from sklearn.svm import SVC\n",
    "from sklearn.ensemble import RandomForestClassifier\n",
    "from sklearn.naive_bayes import GaussianNB\n",
    "from sklearn.neighbors import KNeighborsClassifier\n",
    "from sklearn.metrics import confusion_matrix,accuracy_score\n",
    "import keras\n",
    "from keras import models\n",
    "from keras import layers,activations\n",
    "from keras.callbacks import EarlyStopping"
   ]
  },
  {
   "cell_type": "markdown",
   "metadata": {
    "colab_type": "text",
    "id": "sIdUFrOL9RjB"
   },
   "source": [
    "#### IMPORTING DATASET"
   ]
  },
  {
   "cell_type": "code",
   "execution_count": 3,
   "metadata": {
    "colab": {
     "base_uri": "https://localhost:8080/",
     "height": 72,
     "resources": {
      "http://localhost:8080/nbextensions/google.colab/files.js": {
       "data": "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",
       "headers": [
        [
         "content-type",
         "application/javascript"
        ]
       ],
       "ok": true,
       "status": 200,
       "status_text": ""
      }
     }
    },
    "colab_type": "code",
    "executionInfo": {
     "elapsed": 40048,
     "status": "ok",
     "timestamp": 1593741212396,
     "user": {
      "displayName": "SHREY JAIN",
      "photoUrl": "",
      "userId": "13312361493542215859"
     },
     "user_tz": -330
    },
    "id": "TIsYiD3S1vmG",
    "outputId": "d160395b-fa80-451a-d9c2-442e555d50a2"
   },
   "outputs": [
    {
     "data": {
      "text/html": [
       "\n",
       "     <input type=\"file\" id=\"files-28f0191a-a481-4710-879a-d3c017c33d28\" name=\"files[]\" multiple disabled\n",
       "        style=\"border:none\" />\n",
       "     <output id=\"result-28f0191a-a481-4710-879a-d3c017c33d28\">\n",
       "      Upload widget is only available when the cell has been executed in the\n",
       "      current browser session. Please rerun this cell to enable.\n",
       "      </output>\n",
       "      <script src=\"/nbextensions/google.colab/files.js\"></script> "
      ],
      "text/plain": [
       "<IPython.core.display.HTML object>"
      ]
     },
     "metadata": {
      "tags": []
     },
     "output_type": "display_data"
    },
    {
     "name": "stdout",
     "output_type": "stream",
     "text": [
      "Saving stroke_data.csv to stroke_data (1).csv\n"
     ]
    }
   ],
   "source": [
    "from google.colab import files\n",
    "uploaded = files.upload()"
   ]
  },
  {
   "cell_type": "code",
   "execution_count": 4,
   "metadata": {
    "colab": {},
    "colab_type": "code",
    "executionInfo": {
     "elapsed": 863,
     "status": "ok",
     "timestamp": 1593741216106,
     "user": {
      "displayName": "SHREY JAIN",
      "photoUrl": "",
      "userId": "13312361493542215859"
     },
     "user_tz": -330
    },
    "id": "w6XF_VRC1317"
   },
   "outputs": [],
   "source": [
    "import io\n",
    "df = pd.read_csv(io.BytesIO(uploaded['stroke_data.csv']))"
   ]
  },
  {
   "cell_type": "markdown",
   "metadata": {
    "colab_type": "text",
    "id": "9IQDgWJM-DgG"
   },
   "source": [
    "###  EXPLORATORY DATA ANALYSIS (EDA)"
   ]
  },
  {
   "cell_type": "code",
   "execution_count": 5,
   "metadata": {
    "colab": {
     "base_uri": "https://localhost:8080/",
     "height": 419
    },
    "colab_type": "code",
    "executionInfo": {
     "elapsed": 634,
     "status": "ok",
     "timestamp": 1593741217609,
     "user": {
      "displayName": "SHREY JAIN",
      "photoUrl": "",
      "userId": "13312361493542215859"
     },
     "user_tz": -330
    },
    "id": "5awOayAX2GCl",
    "outputId": "8756e277-df13-47f7-ad45-83e9592649d5"
   },
   "outputs": [
    {
     "data": {
      "text/html": [
       "<div>\n",
       "<style scoped>\n",
       "    .dataframe tbody tr th:only-of-type {\n",
       "        vertical-align: middle;\n",
       "    }\n",
       "\n",
       "    .dataframe tbody tr th {\n",
       "        vertical-align: top;\n",
       "    }\n",
       "\n",
       "    .dataframe thead th {\n",
       "        text-align: right;\n",
       "    }\n",
       "</style>\n",
       "<table border=\"1\" class=\"dataframe\">\n",
       "  <thead>\n",
       "    <tr style=\"text-align: right;\">\n",
       "      <th></th>\n",
       "      <th>gender</th>\n",
       "      <th>age</th>\n",
       "      <th>hypertension</th>\n",
       "      <th>heart_disease</th>\n",
       "      <th>ever_married</th>\n",
       "      <th>work_type</th>\n",
       "      <th>Residence_type</th>\n",
       "      <th>avg_glucose_level</th>\n",
       "      <th>bmi</th>\n",
       "      <th>smoking_status</th>\n",
       "      <th>stroke</th>\n",
       "    </tr>\n",
       "  </thead>\n",
       "  <tbody>\n",
       "    <tr>\n",
       "      <th>0</th>\n",
       "      <td>Male</td>\n",
       "      <td>58.0</td>\n",
       "      <td>1</td>\n",
       "      <td>0</td>\n",
       "      <td>Yes</td>\n",
       "      <td>Private</td>\n",
       "      <td>Urban</td>\n",
       "      <td>87.96</td>\n",
       "      <td>39.2</td>\n",
       "      <td>never smoked</td>\n",
       "      <td>0</td>\n",
       "    </tr>\n",
       "    <tr>\n",
       "      <th>1</th>\n",
       "      <td>Female</td>\n",
       "      <td>70.0</td>\n",
       "      <td>0</td>\n",
       "      <td>0</td>\n",
       "      <td>Yes</td>\n",
       "      <td>Private</td>\n",
       "      <td>Rural</td>\n",
       "      <td>69.04</td>\n",
       "      <td>35.9</td>\n",
       "      <td>formerly smoked</td>\n",
       "      <td>0</td>\n",
       "    </tr>\n",
       "    <tr>\n",
       "      <th>2</th>\n",
       "      <td>Female</td>\n",
       "      <td>52.0</td>\n",
       "      <td>0</td>\n",
       "      <td>0</td>\n",
       "      <td>Yes</td>\n",
       "      <td>Private</td>\n",
       "      <td>Urban</td>\n",
       "      <td>77.59</td>\n",
       "      <td>17.7</td>\n",
       "      <td>formerly smoked</td>\n",
       "      <td>0</td>\n",
       "    </tr>\n",
       "    <tr>\n",
       "      <th>3</th>\n",
       "      <td>Female</td>\n",
       "      <td>75.0</td>\n",
       "      <td>0</td>\n",
       "      <td>1</td>\n",
       "      <td>Yes</td>\n",
       "      <td>Self-employed</td>\n",
       "      <td>Rural</td>\n",
       "      <td>243.53</td>\n",
       "      <td>27.0</td>\n",
       "      <td>never smoked</td>\n",
       "      <td>0</td>\n",
       "    </tr>\n",
       "    <tr>\n",
       "      <th>4</th>\n",
       "      <td>Female</td>\n",
       "      <td>32.0</td>\n",
       "      <td>0</td>\n",
       "      <td>0</td>\n",
       "      <td>Yes</td>\n",
       "      <td>Private</td>\n",
       "      <td>Rural</td>\n",
       "      <td>77.67</td>\n",
       "      <td>32.3</td>\n",
       "      <td>smokes</td>\n",
       "      <td>0</td>\n",
       "    </tr>\n",
       "    <tr>\n",
       "      <th>...</th>\n",
       "      <td>...</td>\n",
       "      <td>...</td>\n",
       "      <td>...</td>\n",
       "      <td>...</td>\n",
       "      <td>...</td>\n",
       "      <td>...</td>\n",
       "      <td>...</td>\n",
       "      <td>...</td>\n",
       "      <td>...</td>\n",
       "      <td>...</td>\n",
       "      <td>...</td>\n",
       "    </tr>\n",
       "    <tr>\n",
       "      <th>29060</th>\n",
       "      <td>Female</td>\n",
       "      <td>10.0</td>\n",
       "      <td>0</td>\n",
       "      <td>0</td>\n",
       "      <td>No</td>\n",
       "      <td>children</td>\n",
       "      <td>Urban</td>\n",
       "      <td>58.64</td>\n",
       "      <td>20.4</td>\n",
       "      <td>never smoked</td>\n",
       "      <td>0</td>\n",
       "    </tr>\n",
       "    <tr>\n",
       "      <th>29061</th>\n",
       "      <td>Female</td>\n",
       "      <td>56.0</td>\n",
       "      <td>0</td>\n",
       "      <td>0</td>\n",
       "      <td>Yes</td>\n",
       "      <td>Govt_job</td>\n",
       "      <td>Urban</td>\n",
       "      <td>213.61</td>\n",
       "      <td>55.4</td>\n",
       "      <td>formerly smoked</td>\n",
       "      <td>0</td>\n",
       "    </tr>\n",
       "    <tr>\n",
       "      <th>29062</th>\n",
       "      <td>Female</td>\n",
       "      <td>82.0</td>\n",
       "      <td>1</td>\n",
       "      <td>0</td>\n",
       "      <td>Yes</td>\n",
       "      <td>Private</td>\n",
       "      <td>Urban</td>\n",
       "      <td>91.94</td>\n",
       "      <td>28.9</td>\n",
       "      <td>formerly smoked</td>\n",
       "      <td>0</td>\n",
       "    </tr>\n",
       "    <tr>\n",
       "      <th>29063</th>\n",
       "      <td>Male</td>\n",
       "      <td>40.0</td>\n",
       "      <td>0</td>\n",
       "      <td>0</td>\n",
       "      <td>Yes</td>\n",
       "      <td>Private</td>\n",
       "      <td>Urban</td>\n",
       "      <td>99.16</td>\n",
       "      <td>33.2</td>\n",
       "      <td>never smoked</td>\n",
       "      <td>0</td>\n",
       "    </tr>\n",
       "    <tr>\n",
       "      <th>29064</th>\n",
       "      <td>Female</td>\n",
       "      <td>82.0</td>\n",
       "      <td>0</td>\n",
       "      <td>0</td>\n",
       "      <td>Yes</td>\n",
       "      <td>Private</td>\n",
       "      <td>Urban</td>\n",
       "      <td>79.48</td>\n",
       "      <td>20.6</td>\n",
       "      <td>never smoked</td>\n",
       "      <td>0</td>\n",
       "    </tr>\n",
       "  </tbody>\n",
       "</table>\n",
       "<p>29065 rows × 11 columns</p>\n",
       "</div>"
      ],
      "text/plain": [
       "       gender   age  hypertension  ...   bmi   smoking_status stroke\n",
       "0        Male  58.0             1  ...  39.2     never smoked      0\n",
       "1      Female  70.0             0  ...  35.9  formerly smoked      0\n",
       "2      Female  52.0             0  ...  17.7  formerly smoked      0\n",
       "3      Female  75.0             0  ...  27.0     never smoked      0\n",
       "4      Female  32.0             0  ...  32.3           smokes      0\n",
       "...       ...   ...           ...  ...   ...              ...    ...\n",
       "29060  Female  10.0             0  ...  20.4     never smoked      0\n",
       "29061  Female  56.0             0  ...  55.4  formerly smoked      0\n",
       "29062  Female  82.0             1  ...  28.9  formerly smoked      0\n",
       "29063    Male  40.0             0  ...  33.2     never smoked      0\n",
       "29064  Female  82.0             0  ...  20.6     never smoked      0\n",
       "\n",
       "[29065 rows x 11 columns]"
      ]
     },
     "execution_count": 5,
     "metadata": {
      "tags": []
     },
     "output_type": "execute_result"
    }
   ],
   "source": [
    "df   #OUR DATASET IN PANDAS DATAFRAME FORMAT"
   ]
  },
  {
   "cell_type": "code",
   "execution_count": 6,
   "metadata": {
    "colab": {
     "base_uri": "https://localhost:8080/",
     "height": 323
    },
    "colab_type": "code",
    "executionInfo": {
     "elapsed": 1281,
     "status": "ok",
     "timestamp": 1593741219112,
     "user": {
      "displayName": "SHREY JAIN",
      "photoUrl": "",
      "userId": "13312361493542215859"
     },
     "user_tz": -330
    },
    "id": "-CilUptF2G9f",
    "outputId": "2808d63b-f56b-4b31-dd07-95415a21fb75"
   },
   "outputs": [
    {
     "name": "stdout",
     "output_type": "stream",
     "text": [
      "<class 'pandas.core.frame.DataFrame'>\n",
      "RangeIndex: 29065 entries, 0 to 29064\n",
      "Data columns (total 11 columns):\n",
      " #   Column             Non-Null Count  Dtype  \n",
      "---  ------             --------------  -----  \n",
      " 0   gender             29065 non-null  object \n",
      " 1   age                29065 non-null  float64\n",
      " 2   hypertension       29065 non-null  int64  \n",
      " 3   heart_disease      29065 non-null  int64  \n",
      " 4   ever_married       29065 non-null  object \n",
      " 5   work_type          29065 non-null  object \n",
      " 6   Residence_type     29065 non-null  object \n",
      " 7   avg_glucose_level  29065 non-null  float64\n",
      " 8   bmi                29065 non-null  float64\n",
      " 9   smoking_status     29065 non-null  object \n",
      " 10  stroke             29065 non-null  int64  \n",
      "dtypes: float64(3), int64(3), object(5)\n",
      "memory usage: 2.4+ MB\n"
     ]
    }
   ],
   "source": [
    "df.info()   "
   ]
  },
  {
   "cell_type": "markdown",
   "metadata": {
    "colab_type": "text",
    "id": "rvTeqwk3-hyi"
   },
   "source": [
    "AS WE CAN SEE THERE ARE NO NULL VALUES IN OUR DATASET AND THE DATATYPES OF COLUMNS ARE DIFFERENT.WE HAVE A TOTAL OF 29065 EXAMPLES IN DATASET."
   ]
  },
  {
   "cell_type": "code",
   "execution_count": 7,
   "metadata": {
    "colab": {
     "base_uri": "https://localhost:8080/",
     "height": 297
    },
    "colab_type": "code",
    "executionInfo": {
     "elapsed": 955,
     "status": "ok",
     "timestamp": 1593741219517,
     "user": {
      "displayName": "SHREY JAIN",
      "photoUrl": "",
      "userId": "13312361493542215859"
     },
     "user_tz": -330
    },
    "id": "d5M671Du2Nez",
    "outputId": "65462027-9f06-458e-f5a9-cdb4e15e9b20"
   },
   "outputs": [
    {
     "data": {
      "text/html": [
       "<div>\n",
       "<style scoped>\n",
       "    .dataframe tbody tr th:only-of-type {\n",
       "        vertical-align: middle;\n",
       "    }\n",
       "\n",
       "    .dataframe tbody tr th {\n",
       "        vertical-align: top;\n",
       "    }\n",
       "\n",
       "    .dataframe thead th {\n",
       "        text-align: right;\n",
       "    }\n",
       "</style>\n",
       "<table border=\"1\" class=\"dataframe\">\n",
       "  <thead>\n",
       "    <tr style=\"text-align: right;\">\n",
       "      <th></th>\n",
       "      <th>age</th>\n",
       "      <th>hypertension</th>\n",
       "      <th>heart_disease</th>\n",
       "      <th>avg_glucose_level</th>\n",
       "      <th>bmi</th>\n",
       "      <th>stroke</th>\n",
       "    </tr>\n",
       "  </thead>\n",
       "  <tbody>\n",
       "    <tr>\n",
       "      <th>count</th>\n",
       "      <td>29065.000000</td>\n",
       "      <td>29065.000000</td>\n",
       "      <td>29065.000000</td>\n",
       "      <td>29065.000000</td>\n",
       "      <td>29065.000000</td>\n",
       "      <td>29065.000000</td>\n",
       "    </tr>\n",
       "    <tr>\n",
       "      <th>mean</th>\n",
       "      <td>47.676174</td>\n",
       "      <td>0.111509</td>\n",
       "      <td>0.052159</td>\n",
       "      <td>106.405639</td>\n",
       "      <td>30.054684</td>\n",
       "      <td>0.018854</td>\n",
       "    </tr>\n",
       "    <tr>\n",
       "      <th>std</th>\n",
       "      <td>18.732941</td>\n",
       "      <td>0.314766</td>\n",
       "      <td>0.222351</td>\n",
       "      <td>45.272453</td>\n",
       "      <td>7.193951</td>\n",
       "      <td>0.136013</td>\n",
       "    </tr>\n",
       "    <tr>\n",
       "      <th>min</th>\n",
       "      <td>10.000000</td>\n",
       "      <td>0.000000</td>\n",
       "      <td>0.000000</td>\n",
       "      <td>55.010000</td>\n",
       "      <td>10.100000</td>\n",
       "      <td>0.000000</td>\n",
       "    </tr>\n",
       "    <tr>\n",
       "      <th>25%</th>\n",
       "      <td>32.000000</td>\n",
       "      <td>0.000000</td>\n",
       "      <td>0.000000</td>\n",
       "      <td>77.630000</td>\n",
       "      <td>25.000000</td>\n",
       "      <td>0.000000</td>\n",
       "    </tr>\n",
       "    <tr>\n",
       "      <th>50%</th>\n",
       "      <td>48.000000</td>\n",
       "      <td>0.000000</td>\n",
       "      <td>0.000000</td>\n",
       "      <td>92.130000</td>\n",
       "      <td>28.900000</td>\n",
       "      <td>0.000000</td>\n",
       "    </tr>\n",
       "    <tr>\n",
       "      <th>75%</th>\n",
       "      <td>62.000000</td>\n",
       "      <td>0.000000</td>\n",
       "      <td>0.000000</td>\n",
       "      <td>113.910000</td>\n",
       "      <td>33.900000</td>\n",
       "      <td>0.000000</td>\n",
       "    </tr>\n",
       "    <tr>\n",
       "      <th>max</th>\n",
       "      <td>82.000000</td>\n",
       "      <td>1.000000</td>\n",
       "      <td>1.000000</td>\n",
       "      <td>291.050000</td>\n",
       "      <td>92.000000</td>\n",
       "      <td>1.000000</td>\n",
       "    </tr>\n",
       "  </tbody>\n",
       "</table>\n",
       "</div>"
      ],
      "text/plain": [
       "                age  hypertension  ...           bmi        stroke\n",
       "count  29065.000000  29065.000000  ...  29065.000000  29065.000000\n",
       "mean      47.676174      0.111509  ...     30.054684      0.018854\n",
       "std       18.732941      0.314766  ...      7.193951      0.136013\n",
       "min       10.000000      0.000000  ...     10.100000      0.000000\n",
       "25%       32.000000      0.000000  ...     25.000000      0.000000\n",
       "50%       48.000000      0.000000  ...     28.900000      0.000000\n",
       "75%       62.000000      0.000000  ...     33.900000      0.000000\n",
       "max       82.000000      1.000000  ...     92.000000      1.000000\n",
       "\n",
       "[8 rows x 6 columns]"
      ]
     },
     "execution_count": 7,
     "metadata": {
      "tags": []
     },
     "output_type": "execute_result"
    }
   ],
   "source": [
    "df.describe()  "
   ]
  },
  {
   "cell_type": "markdown",
   "metadata": {
    "colab": {},
    "colab_type": "code",
    "executionInfo": {
     "elapsed": 885,
     "status": "ok",
     "timestamp": 1593741220722,
     "user": {
      "displayName": "SHREY JAIN",
      "photoUrl": "",
      "userId": "13312361493542215859"
     },
     "user_tz": -330
    },
    "id": "PnueIskz3Q37"
   },
   "source": [
    "-----------------------------------------------------------------------------------------------------------------"
   ]
  },
  {
   "cell_type": "markdown",
   "metadata": {
    "colab_type": "text",
    "id": "VPnL-mSM_sjv"
   },
   "source": [
    "### PRE PROCESSING DIFFERENT CATEGORICAL COLUMNS OF OUR DATASET"
   ]
  },
  {
   "cell_type": "code",
   "execution_count": 8,
   "metadata": {
    "colab": {
     "base_uri": "https://localhost:8080/",
     "height": 34
    },
    "colab_type": "code",
    "executionInfo": {
     "elapsed": 1335,
     "status": "ok",
     "timestamp": 1593741223446,
     "user": {
      "displayName": "SHREY JAIN",
      "photoUrl": "",
      "userId": "13312361493542215859"
     },
     "user_tz": -330
    },
    "id": "pxsxbVaX2P4r",
    "outputId": "9cb4ff8d-1433-465b-9b43-26bed837eac3"
   },
   "outputs": [
    {
     "data": {
      "text/plain": [
       "array(['Male', 'Female'], dtype=object)"
      ]
     },
     "execution_count": 8,
     "metadata": {
      "tags": []
     },
     "output_type": "execute_result"
    }
   ],
   "source": [
    "df['gender'].unique()"
   ]
  },
  {
   "cell_type": "code",
   "execution_count": 9,
   "metadata": {
    "colab": {
     "base_uri": "https://localhost:8080/",
     "height": 34
    },
    "colab_type": "code",
    "executionInfo": {
     "elapsed": 781,
     "status": "ok",
     "timestamp": 1593741223447,
     "user": {
      "displayName": "SHREY JAIN",
      "photoUrl": "",
      "userId": "13312361493542215859"
     },
     "user_tz": -330
    },
    "id": "KTMc4Cry2l5b",
    "outputId": "31caf345-6c62-4df2-c2e8-8212591d2850"
   },
   "outputs": [
    {
     "data": {
      "text/plain": [
       "array(['Yes', 'No'], dtype=object)"
      ]
     },
     "execution_count": 9,
     "metadata": {
      "tags": []
     },
     "output_type": "execute_result"
    }
   ],
   "source": [
    "df['ever_married'].unique()"
   ]
  },
  {
   "cell_type": "code",
   "execution_count": 10,
   "metadata": {
    "colab": {
     "base_uri": "https://localhost:8080/",
     "height": 51
    },
    "colab_type": "code",
    "executionInfo": {
     "elapsed": 733,
     "status": "ok",
     "timestamp": 1593741224044,
     "user": {
      "displayName": "SHREY JAIN",
      "photoUrl": "",
      "userId": "13312361493542215859"
     },
     "user_tz": -330
    },
    "id": "7zENBDeu2tJ8",
    "outputId": "c19a84fd-228e-4566-958d-f1c9eea274e4"
   },
   "outputs": [
    {
     "data": {
      "text/plain": [
       "array(['Private', 'Self-employed', 'Govt_job', 'children', 'Never_worked'],\n",
       "      dtype=object)"
      ]
     },
     "execution_count": 10,
     "metadata": {
      "tags": []
     },
     "output_type": "execute_result"
    }
   ],
   "source": [
    "df['work_type'].unique()"
   ]
  },
  {
   "cell_type": "code",
   "execution_count": 11,
   "metadata": {
    "colab": {
     "base_uri": "https://localhost:8080/",
     "height": 34
    },
    "colab_type": "code",
    "executionInfo": {
     "elapsed": 860,
     "status": "ok",
     "timestamp": 1593741224686,
     "user": {
      "displayName": "SHREY JAIN",
      "photoUrl": "",
      "userId": "13312361493542215859"
     },
     "user_tz": -330
    },
    "id": "wKj2wo_N21Km",
    "outputId": "0c2ed815-293e-4cd0-abf0-6f4114fc55a5"
   },
   "outputs": [
    {
     "data": {
      "text/plain": [
       "array(['Urban', 'Rural'], dtype=object)"
      ]
     },
     "execution_count": 11,
     "metadata": {
      "tags": []
     },
     "output_type": "execute_result"
    }
   ],
   "source": [
    "df['Residence_type'].unique()"
   ]
  },
  {
   "cell_type": "code",
   "execution_count": 12,
   "metadata": {
    "colab": {
     "base_uri": "https://localhost:8080/",
     "height": 34
    },
    "colab_type": "code",
    "executionInfo": {
     "elapsed": 782,
     "status": "ok",
     "timestamp": 1593741225149,
     "user": {
      "displayName": "SHREY JAIN",
      "photoUrl": "",
      "userId": "13312361493542215859"
     },
     "user_tz": -330
    },
    "id": "g8Zpblbb3DwT",
    "outputId": "82ceda66-b0b3-4ef9-bbd0-c9580dce99b1"
   },
   "outputs": [
    {
     "data": {
      "text/plain": [
       "array(['never smoked', 'formerly smoked', 'smokes'], dtype=object)"
      ]
     },
     "execution_count": 12,
     "metadata": {
      "tags": []
     },
     "output_type": "execute_result"
    }
   ],
   "source": [
    "df['smoking_status'].unique()"
   ]
  },
  {
   "cell_type": "markdown",
   "metadata": {
    "colab_type": "text",
    "id": "6SPSU0aP_5T8"
   },
   "source": [
    "### LABEL ENCODING OUR CATEGORICAL"
   ]
  },
  {
   "cell_type": "code",
   "execution_count": 13,
   "metadata": {
    "colab": {},
    "colab_type": "code",
    "executionInfo": {
     "elapsed": 741,
     "status": "ok",
     "timestamp": 1593741226177,
     "user": {
      "displayName": "SHREY JAIN",
      "photoUrl": "",
      "userId": "13312361493542215859"
     },
     "user_tz": -330
    },
    "id": "ZyK1QMMS6K1j"
   },
   "outputs": [],
   "source": [
    "df['gender'] = df['gender'].map({'Male':0,'Female':1})"
   ]
  },
  {
   "cell_type": "code",
   "execution_count": 14,
   "metadata": {
    "colab": {},
    "colab_type": "code",
    "executionInfo": {
     "elapsed": 752,
     "status": "ok",
     "timestamp": 1593741226727,
     "user": {
      "displayName": "SHREY JAIN",
      "photoUrl": "",
      "userId": "13312361493542215859"
     },
     "user_tz": -330
    },
    "id": "ELC3XcWY7TtU"
   },
   "outputs": [],
   "source": [
    "df['ever_married'] = df['ever_married'].map({'Yes':1,'No':0})"
   ]
  },
  {
   "cell_type": "code",
   "execution_count": 15,
   "metadata": {
    "colab": {},
    "colab_type": "code",
    "executionInfo": {
     "elapsed": 746,
     "status": "ok",
     "timestamp": 1593741227282,
     "user": {
      "displayName": "SHREY JAIN",
      "photoUrl": "",
      "userId": "13312361493542215859"
     },
     "user_tz": -330
    },
    "id": "dzA8l0B07VIR"
   },
   "outputs": [],
   "source": [
    "df['Residence_type'] = df['Residence_type'].map({'Urban': 0 ,'Rural':1})"
   ]
  },
  {
   "cell_type": "code",
   "execution_count": 16,
   "metadata": {
    "colab": {},
    "colab_type": "code",
    "executionInfo": {
     "elapsed": 722,
     "status": "ok",
     "timestamp": 1593741227811,
     "user": {
      "displayName": "SHREY JAIN",
      "photoUrl": "",
      "userId": "13312361493542215859"
     },
     "user_tz": -330
    },
    "id": "Rpeo7tIE8Db1"
   },
   "outputs": [],
   "source": [
    "df['smoking_status'] = df['smoking_status'].map({'never smoked':0,'formerly smoked':1,'smokes':2})"
   ]
  },
  {
   "cell_type": "code",
   "execution_count": 17,
   "metadata": {
    "colab": {},
    "colab_type": "code",
    "executionInfo": {
     "elapsed": 734,
     "status": "ok",
     "timestamp": 1593741228347,
     "user": {
      "displayName": "SHREY JAIN",
      "photoUrl": "",
      "userId": "13312361493542215859"
     },
     "user_tz": -330
    },
    "id": "nClq-Rup8NPR"
   },
   "outputs": [],
   "source": [
    "df['work_type'] = df['work_type'].map({'Private':0,'Self-employed':1,'Govt_job':2,'children':3,'Never_worked':4})"
   ]
  },
  {
   "cell_type": "markdown",
   "metadata": {
    "colab": {},
    "colab_type": "code",
    "executionInfo": {
     "elapsed": 884,
     "status": "ok",
     "timestamp": 1593741228950,
     "user": {
      "displayName": "SHREY JAIN",
      "photoUrl": "",
      "userId": "13312361493542215859"
     },
     "user_tz": -330
    },
    "id": "80EsAlVJAfVs"
   },
   "source": [
    "----------------------------------------------------------------------------------------------------"
   ]
  },
  {
   "cell_type": "markdown",
   "metadata": {
    "colab_type": "text",
    "id": "umThKWnYBZhT"
   },
   "source": [
    "### VIEWING OUR DIFFERENT FEATURES AND THEIR CORRELATIONS"
   ]
  },
  {
   "cell_type": "code",
   "execution_count": 18,
   "metadata": {
    "colab": {
     "base_uri": "https://localhost:8080/",
     "height": 367
    },
    "colab_type": "code",
    "executionInfo": {
     "elapsed": 1669,
     "status": "ok",
     "timestamp": 1593741230800,
     "user": {
      "displayName": "SHREY JAIN",
      "photoUrl": "",
      "userId": "13312361493542215859"
     },
     "user_tz": -330
    },
    "id": "ygFNon2O8ucp",
    "outputId": "b0aac52f-c5c0-4f5f-f53c-d650e26b1319"
   },
   "outputs": [
    {
     "data": {
      "text/plain": [
       "<matplotlib.axes._subplots.AxesSubplot at 0x7fed8c928a58>"
      ]
     },
     "execution_count": 18,
     "metadata": {
      "tags": []
     },
     "output_type": "execute_result"
    },
    {
     "data": {
      "image/png": "[encoded data removed]",
      "text/plain": [
       "<Figure size 432x288 with 2 Axes>"
      ]
     },
     "metadata": {
      "needs_background": "light",
      "tags": []
     },
     "output_type": "display_data"
    }
   ],
   "source": [
    "sns.heatmap(df.corr())   #HEATMAP SHOWING DIFFERENT CORRELATIONS BETWEEN COLUMNS"
   ]
  },
  {
   "cell_type": "code",
   "execution_count": 19,
   "metadata": {
    "colab": {
     "base_uri": "https://localhost:8080/",
     "height": 1000
    },
    "colab_type": "code",
    "executionInfo": {
     "elapsed": 50616,
     "status": "ok",
     "timestamp": 1593741280270,
     "user": {
      "displayName": "SHREY JAIN",
      "photoUrl": "",
      "userId": "13312361493542215859"
     },
     "user_tz": -330
    },
    "id": "KV1emej5CCZj",
    "outputId": "ba29050d-9b22-4ab9-bb0e-6ac64779ee3f"
   },
   "outputs": [
    {
     "data": {
      "text/plain": [
       "<seaborn.axisgrid.PairGrid at 0x7fed8c942e48>"
      ]
     },
     "execution_count": 19,
     "metadata": {
      "tags": []
     },
     "output_type": "execute_result"
    },
    {
     "data": {
      "image/png": "[encoded data removed]",
      "text/plain": [
       "<Figure size 1980x1980 with 132 Axes>"
      ]
     },
     "metadata": {
      "needs_background": "light",
      "tags": []
     },
     "output_type": "display_data"
    }
   ],
   "source": [
    "sns.pairplot(df)  #DIFFERENT JOINTPLOTS BETWEEN OUR FEATURES"
   ]
  },
  {
   "cell_type": "code",
   "execution_count": 20,
   "metadata": {
    "colab": {
     "base_uri": "https://localhost:8080/",
     "height": 296
    },
    "colab_type": "code",
    "executionInfo": {
     "elapsed": 50088,
     "status": "ok",
     "timestamp": 1593741280272,
     "user": {
      "displayName": "SHREY JAIN",
      "photoUrl": "",
      "userId": "13312361493542215859"
     },
     "user_tz": -330
    },
    "id": "_gZTMRZJ89ka",
    "outputId": "90c917a7-9a46-477e-d300-e848e12eb06f"
   },
   "outputs": [
    {
     "data": {
      "text/plain": [
       "<matplotlib.axes._subplots.AxesSubplot at 0x7fed85d6aa58>"
      ]
     },
     "execution_count": 20,
     "metadata": {
      "tags": []
     },
     "output_type": "execute_result"
    },
    {
     "data": {
      "image/png": "[encoded data removed]",
      "text/plain": [
       "<Figure size 432x288 with 1 Axes>"
      ]
     },
     "metadata": {
      "needs_background": "light",
      "tags": []
     },
     "output_type": "display_data"
    }
   ],
   "source": [
    "sns.distplot(df['age'])  #DISTRIBUTION OF AGE"
   ]
  },
  {
   "cell_type": "code",
   "execution_count": 21,
   "metadata": {
    "colab": {
     "base_uri": "https://localhost:8080/",
     "height": 297
    },
    "colab_type": "code",
    "executionInfo": {
     "elapsed": 49500,
     "status": "ok",
     "timestamp": 1593741280273,
     "user": {
      "displayName": "SHREY JAIN",
      "photoUrl": "",
      "userId": "13312361493542215859"
     },
     "user_tz": -330
    },
    "id": "dlK1mKF2CgpV",
    "outputId": "c232b779-40e8-46fb-d85b-cfc2139befd0"
   },
   "outputs": [
    {
     "data": {
      "text/plain": [
       "<matplotlib.axes._subplots.AxesSubplot at 0x7fed85d3c2b0>"
      ]
     },
     "execution_count": 21,
     "metadata": {
      "tags": []
     },
     "output_type": "execute_result"
    },
    {
     "data": {
      "image/png": "[encoded data removed]",
      "text/plain": [
       "<Figure size 432x288 with 1 Axes>"
      ]
     },
     "metadata": {
      "needs_background": "light",
      "tags": []
     },
     "output_type": "display_data"
    }
   ],
   "source": [
    "sns.distplot(df['avg_glucose_level'])   #DISTRIBUTION OF AVERAGE GLUCOSE LEVEL"
   ]
  },
  {
   "cell_type": "code",
   "execution_count": 22,
   "metadata": {
    "colab": {
     "base_uri": "https://localhost:8080/",
     "height": 296
    },
    "colab_type": "code",
    "executionInfo": {
     "elapsed": 48994,
     "status": "ok",
     "timestamp": 1593741280275,
     "user": {
      "displayName": "SHREY JAIN",
      "photoUrl": "",
      "userId": "13312361493542215859"
     },
     "user_tz": -330
    },
    "id": "vhdn_bx1Cgmf",
    "outputId": "c3972b69-9bac-43eb-e320-b43e574c16da"
   },
   "outputs": [
    {
     "data": {
      "text/plain": [
       "<matplotlib.axes._subplots.AxesSubplot at 0x7fed85e95be0>"
      ]
     },
     "execution_count": 22,
     "metadata": {
      "tags": []
     },
     "output_type": "execute_result"
    },
    {
     "data": {
      "image/png": "[encoded data removed]",
      "text/plain": [
       "<Figure size 432x288 with 1 Axes>"
      ]
     },
     "metadata": {
      "needs_background": "light",
      "tags": []
     },
     "output_type": "display_data"
    }
   ],
   "source": [
    "sns.distplot(df['bmi'])       #DISTRIBUTION OF BMI"
   ]
  },
  {
   "cell_type": "code",
   "execution_count": 23,
   "metadata": {
    "colab": {
     "base_uri": "https://localhost:8080/",
     "height": 347
    },
    "colab_type": "code",
    "executionInfo": {
     "elapsed": 48425,
     "status": "ok",
     "timestamp": 1593741280278,
     "user": {
      "displayName": "SHREY JAIN",
      "photoUrl": "",
      "userId": "13312361493542215859"
     },
     "user_tz": -330
    },
    "id": "iSVvBN3lB4pX",
    "outputId": "f4f7527d-fea9-4280-a573-9778e82a51d8"
   },
   "outputs": [
    {
     "name": "stdout",
     "output_type": "stream",
     "text": [
      "0    28517\n",
      "1      548\n",
      "Name: stroke, dtype: int64\n",
      "==================================================\n"
     ]
    },
    {
     "data": {
      "image/png": "[encoded data removed]",
      "text/plain": [
       "<Figure size 432x288 with 1 Axes>"
      ]
     },
     "metadata": {
      "needs_background": "light",
      "tags": []
     },
     "output_type": "display_data"
    }
   ],
   "source": [
    "print(df['stroke'].value_counts())\n",
    "print(\"=\"*50)\n",
    "sns.countplot(df['stroke'])\n",
    "plt.grid()"
   ]
  },
  {
   "cell_type": "markdown",
   "metadata": {
    "colab_type": "text",
    "id": "SfvFajGiESR4"
   },
   "source": [
    "## AS WE CAN SEE OUR DATA IS HIGHLY IMBALANCED "
   ]
  },
  {
   "cell_type": "code",
   "execution_count": 24,
   "metadata": {
    "colab": {
     "base_uri": "https://localhost:8080/",
     "height": 187
    },
    "colab_type": "code",
    "executionInfo": {
     "elapsed": 47440,
     "status": "ok",
     "timestamp": 1593741280280,
     "user": {
      "displayName": "SHREY JAIN",
      "photoUrl": "",
      "userId": "13312361493542215859"
     },
     "user_tz": -330
    },
    "id": "hpAMQAa8HUnE",
    "outputId": "e4693858-8d06-419c-ce22-affb63abfd33"
   },
   "outputs": [
    {
     "data": {
      "text/plain": [
       "work_type  stroke\n",
       "0          0         18639\n",
       "           1           311\n",
       "1          0          5033\n",
       "           1           171\n",
       "2          0          4129\n",
       "           1            66\n",
       "3          0           615\n",
       "4          0           101\n",
       "Name: stroke, dtype: int64"
      ]
     },
     "execution_count": 24,
     "metadata": {
      "tags": []
     },
     "output_type": "execute_result"
    }
   ],
   "source": [
    "df.groupby(['work_type','stroke'])['stroke'].count()"
   ]
  },
  {
   "cell_type": "code",
   "execution_count": 25,
   "metadata": {
    "colab": {
     "base_uri": "https://localhost:8080/",
     "height": 153
    },
    "colab_type": "code",
    "executionInfo": {
     "elapsed": 43764,
     "status": "ok",
     "timestamp": 1593741280282,
     "user": {
      "displayName": "SHREY JAIN",
      "photoUrl": "",
      "userId": "13312361493542215859"
     },
     "user_tz": -330
    },
    "id": "H2GzfOoWI8Qc",
    "outputId": "0067e7d7-1e58-47bb-de95-9a286f32c1b4"
   },
   "outputs": [
    {
     "data": {
      "text/plain": [
       "smoking_status  stroke\n",
       "0               0         15490\n",
       "                1           256\n",
       "1               0          6913\n",
       "                1           180\n",
       "2               0          6114\n",
       "                1           112\n",
       "Name: stroke, dtype: int64"
      ]
     },
     "execution_count": 25,
     "metadata": {
      "tags": []
     },
     "output_type": "execute_result"
    }
   ],
   "source": [
    "df.groupby(['smoking_status','stroke'])['stroke'].count()"
   ]
  },
  {
   "cell_type": "markdown",
   "metadata": {
    "colab_type": "text",
    "id": "2E0T3bpXFJxC"
   },
   "source": [
    "### USING OVERSAMPLING METHOD SMOTE TO BALANCE THE DATASET"
   ]
  },
  {
   "cell_type": "code",
   "execution_count": 26,
   "metadata": {
    "colab": {},
    "colab_type": "code",
    "executionInfo": {
     "elapsed": 1375,
     "status": "ok",
     "timestamp": 1593741289928,
     "user": {
      "displayName": "SHREY JAIN",
      "photoUrl": "",
      "userId": "13312361493542215859"
     },
     "user_tz": -330
    },
    "id": "O-ai0RPRLjUq"
   },
   "outputs": [],
   "source": [
    "sm = SMOTE()"
   ]
  },
  {
   "cell_type": "code",
   "execution_count": 27,
   "metadata": {
    "colab": {},
    "colab_type": "code",
    "executionInfo": {
     "elapsed": 849,
     "status": "ok",
     "timestamp": 1593741289929,
     "user": {
      "displayName": "SHREY JAIN",
      "photoUrl": "",
      "userId": "13312361493542215859"
     },
     "user_tz": -330
    },
    "id": "NuoTCH-ORQpD"
   },
   "outputs": [],
   "source": [
    "sm = SMOTE()\n",
    "x = df.drop('stroke',axis=1)\n",
    "y = df['stroke']"
   ]
  },
  {
   "cell_type": "code",
   "execution_count": 28,
   "metadata": {
    "colab": {
     "base_uri": "https://localhost:8080/",
     "height": 71
    },
    "colab_type": "code",
    "executionInfo": {
     "elapsed": 791,
     "status": "ok",
     "timestamp": 1593741290393,
     "user": {
      "displayName": "SHREY JAIN",
      "photoUrl": "",
      "userId": "13312361493542215859"
     },
     "user_tz": -330
    },
    "id": "QHqT1zlhRpj_",
    "outputId": "155e2e2f-ac2a-4022-ddef-0f9292a981f7"
   },
   "outputs": [
    {
     "name": "stderr",
     "output_type": "stream",
     "text": [
      "/usr/local/lib/python3.6/dist-packages/sklearn/utils/deprecation.py:87: FutureWarning: Function safe_indexing is deprecated; safe_indexing is deprecated in version 0.22 and will be removed in version 0.24.\n",
      "  warnings.warn(msg, category=FutureWarning)\n"
     ]
    }
   ],
   "source": [
    "x_oversampled,y_oversampled = sm.fit_sample(x,y)"
   ]
  },
  {
   "cell_type": "code",
   "execution_count": 29,
   "metadata": {
    "colab": {
     "base_uri": "https://localhost:8080/",
     "height": 34
    },
    "colab_type": "code",
    "executionInfo": {
     "elapsed": 872,
     "status": "ok",
     "timestamp": 1593741290965,
     "user": {
      "displayName": "SHREY JAIN",
      "photoUrl": "",
      "userId": "13312361493542215859"
     },
     "user_tz": -330
    },
    "id": "MdVY-f9SRqXX",
    "outputId": "c8053376-9b69-4acf-aac3-aae7dc3e3c16"
   },
   "outputs": [
    {
     "data": {
      "text/plain": [
       "(57034, 10)"
      ]
     },
     "execution_count": 29,
     "metadata": {
      "tags": []
     },
     "output_type": "execute_result"
    }
   ],
   "source": [
    "x_oversampled.shape"
   ]
  },
  {
   "cell_type": "code",
   "execution_count": 30,
   "metadata": {
    "colab": {
     "base_uri": "https://localhost:8080/",
     "height": 34
    },
    "colab_type": "code",
    "executionInfo": {
     "elapsed": 763,
     "status": "ok",
     "timestamp": 1593741291502,
     "user": {
      "displayName": "SHREY JAIN",
      "photoUrl": "",
      "userId": "13312361493542215859"
     },
     "user_tz": -330
    },
    "id": "AlicpPIGTAbr",
    "outputId": "3b4e1e09-ea4e-4f66-d945-5bb7b84dbf50"
   },
   "outputs": [
    {
     "data": {
      "text/plain": [
       "(57034,)"
      ]
     },
     "execution_count": 30,
     "metadata": {
      "tags": []
     },
     "output_type": "execute_result"
    }
   ],
   "source": [
    "y_oversampled.shape"
   ]
  },
  {
   "cell_type": "code",
   "execution_count": 31,
   "metadata": {
    "colab": {
     "base_uri": "https://localhost:8080/",
     "height": 34
    },
    "colab_type": "code",
    "executionInfo": {
     "elapsed": 699,
     "status": "ok",
     "timestamp": 1593741292021,
     "user": {
      "displayName": "SHREY JAIN",
      "photoUrl": "",
      "userId": "13312361493542215859"
     },
     "user_tz": -330
    },
    "id": "nRe7ReUeTGeQ",
    "outputId": "8e38c82f-fffb-4695-d5c1-491669344c0d"
   },
   "outputs": [
    {
     "data": {
      "text/plain": [
       "28517"
      ]
     },
     "execution_count": 31,
     "metadata": {
      "tags": []
     },
     "output_type": "execute_result"
    }
   ],
   "source": [
    "sum(y_oversampled == 0)"
   ]
  },
  {
   "cell_type": "code",
   "execution_count": 32,
   "metadata": {
    "colab": {
     "base_uri": "https://localhost:8080/",
     "height": 34
    },
    "colab_type": "code",
    "executionInfo": {
     "elapsed": 773,
     "status": "ok",
     "timestamp": 1593741292629,
     "user": {
      "displayName": "SHREY JAIN",
      "photoUrl": "",
      "userId": "13312361493542215859"
     },
     "user_tz": -330
    },
    "id": "mD3ezO4aTPoq",
    "outputId": "b6d8b179-629c-4280-cb94-d09f3c384b44"
   },
   "outputs": [
    {
     "data": {
      "text/plain": [
       "28517"
      ]
     },
     "execution_count": 32,
     "metadata": {
      "tags": []
     },
     "output_type": "execute_result"
    }
   ],
   "source": [
    "sum(y_oversampled == 1)"
   ]
  },
  {
   "cell_type": "markdown",
   "metadata": {
    "colab_type": "text",
    "id": "lVUsLmzXRUMx"
   },
   "source": [
    "##### AS WE CAN SEE ABOVE WE NOW HAVE EQUAL NUMBER OF SAMPLES FOR BOTH CLASSES OF OUR DATASET"
   ]
  },
  {
   "cell_type": "markdown",
   "metadata": {
    "colab_type": "text",
    "id": "TY4HitCEPmiu"
   },
   "source": [
    "### PERFORMED PCA TO VISUALIZE DATA AS WELL AS ELBOW METHOD TO SEE IF WE CAN REDUCE DIMENSIONS OF OUR DATA"
   ]
  },
  {
   "cell_type": "code",
   "execution_count": 33,
   "metadata": {
    "colab": {},
    "colab_type": "code",
    "executionInfo": {
     "elapsed": 1334,
     "status": "ok",
     "timestamp": 1593741294946,
     "user": {
      "displayName": "SHREY JAIN",
      "photoUrl": "",
      "userId": "13312361493542215859"
     },
     "user_tz": -330
    },
    "id": "KzsZwUtQGNC2"
   },
   "outputs": [],
   "source": [
    "x_over = x_oversampled"
   ]
  },
  {
   "cell_type": "code",
   "execution_count": 38,
   "metadata": {
    "colab": {},
    "colab_type": "code",
    "executionInfo": {
     "elapsed": 841,
     "status": "ok",
     "timestamp": 1593741334916,
     "user": {
      "displayName": "SHREY JAIN",
      "photoUrl": "",
      "userId": "13312361493542215859"
     },
     "user_tz": -330
    },
    "id": "amgEQNCPH6zg"
   },
   "outputs": [],
   "source": [
    "sc = StandardScaler()\n",
    "x_over_scaled = sc.fit_transform(x_over)  #SCALED FOR PCA"
   ]
  },
  {
   "cell_type": "code",
   "execution_count": 39,
   "metadata": {
    "colab": {
     "base_uri": "https://localhost:8080/",
     "height": 265
    },
    "colab_type": "code",
    "executionInfo": {
     "elapsed": 742,
     "status": "ok",
     "timestamp": 1593741336547,
     "user": {
      "displayName": "SHREY JAIN",
      "photoUrl": "",
      "userId": "13312361493542215859"
     },
     "user_tz": -330
    },
    "id": "IX6S--PjGZiK",
    "outputId": "563596a8-96f2-4ca3-a10e-43ec96b2e751"
   },
   "outputs": [
    {
     "data": {
      "image/png": "[encoded data removed]",
      "text/plain": [
       "<Figure size 432x288 with 1 Axes>"
      ]
     },
     "metadata": {
      "needs_background": "light",
      "tags": []
     },
     "output_type": "display_data"
    }
   ],
   "source": [
    "pca = PCA()                       # ELBOW METHOD FOR DETERMINING THE RIGHT NUMBER OF DIMENSIONS TO REDUCE THE DATA TO.\n",
    "pca.fit_transform(x_over_scaled)\n",
    "plt.plot(np.cumsum(pca.explained_variance_ratio_))\n",
    "plt.grid()        # WE CAN SEE BELOW THAT FOR PRESERVING MORE THAT 90 PERCENT VARIANCE WE NEED AT LEAST 7 DIMENSIONS THUS NOT REDUCING ANY DIMENSION HERE"
   ]
  },
  {
   "cell_type": "code",
   "execution_count": 40,
   "metadata": {
    "colab": {},
    "colab_type": "code",
    "executionInfo": {
     "elapsed": 781,
     "status": "ok",
     "timestamp": 1593741337128,
     "user": {
      "displayName": "SHREY JAIN",
      "photoUrl": "",
      "userId": "13312361493542215859"
     },
     "user_tz": -330
    },
    "id": "P-DKFpv3GZf3"
   },
   "outputs": [],
   "source": [
    "pca_new =  PCA(n_components=2)   # TO VISUALIZE OUR DATA REDUCING DIMENSIONS TO 2\n",
    "x_pca = pca_new.fit_transform(x_over_scaled)"
   ]
  },
  {
   "cell_type": "code",
   "execution_count": 41,
   "metadata": {
    "colab": {
     "base_uri": "https://localhost:8080/",
     "height": 282
    },
    "colab_type": "code",
    "executionInfo": {
     "elapsed": 3257,
     "status": "ok",
     "timestamp": 1593741340265,
     "user": {
      "displayName": "SHREY JAIN",
      "photoUrl": "",
      "userId": "13312361493542215859"
     },
     "user_tz": -330
    },
    "id": "_IEKVdslOQ2l",
    "outputId": "49ac2f27-41cb-403c-855c-512855adc473"
   },
   "outputs": [
    {
     "data": {
      "text/plain": [
       "<matplotlib.collections.PathCollection at 0x7fed84101a20>"
      ]
     },
     "execution_count": 41,
     "metadata": {
      "tags": []
     },
     "output_type": "execute_result"
    },
    {
     "data": {
      "image/png": "[encoded data removed]",
      "text/plain": [
       "<Figure size 432x288 with 1 Axes>"
      ]
     },
     "metadata": {
      "needs_background": "light",
      "tags": []
     },
     "output_type": "display_data"
    }
   ],
   "source": [
    "plt.scatter(x_pca[:,0],x_pca[:,1],c=y_oversampled)   #DATA PLOT WITH CLASS"
   ]
  },
  {
   "cell_type": "markdown",
   "metadata": {
    "colab": {},
    "colab_type": "code",
    "executionInfo": {
     "elapsed": 2675,
     "status": "ok",
     "timestamp": 1593741340266,
     "user": {
      "displayName": "SHREY JAIN",
      "photoUrl": "",
      "userId": "13312361493542215859"
     },
     "user_tz": -330
    },
    "id": "SLJUs-k5RhfQ"
   },
   "source": [
    "----------------------"
   ]
  },
  {
   "cell_type": "markdown",
   "metadata": {
    "colab_type": "text",
    "id": "aAixwyJ1Rtjo"
   },
   "source": [
    "### SPLITTING OUR DATASET TO TRAIN , TEST"
   ]
  },
  {
   "cell_type": "code",
   "execution_count": 42,
   "metadata": {
    "colab": {},
    "colab_type": "code",
    "executionInfo": {
     "elapsed": 1943,
     "status": "ok",
     "timestamp": 1593741340704,
     "user": {
      "displayName": "SHREY JAIN",
      "photoUrl": "",
      "userId": "13312361493542215859"
     },
     "user_tz": -330
    },
    "id": "tdJHK7jPUC6c"
   },
   "outputs": [],
   "source": [
    "x_train,x_test,y_train,y_test = train_test_split(x_oversampled,y_oversampled,test_size=0.33)"
   ]
  },
  {
   "cell_type": "markdown",
   "metadata": {
    "colab_type": "text",
    "id": "9W3WNLK_SIyv"
   },
   "source": [
    "**## APPLYING DIFFERENT MODELS ON OVERSAMPLED DATA(NOT SCALED)**\n"
   ]
  },
  {
   "cell_type": "code",
   "execution_count": 43,
   "metadata": {
    "colab": {
     "base_uri": "https://localhost:8080/",
     "height": 102
    },
    "colab_type": "code",
    "executionInfo": {
     "elapsed": 3227,
     "status": "ok",
     "timestamp": 1593741343286,
     "user": {
      "displayName": "SHREY JAIN",
      "photoUrl": "",
      "userId": "13312361493542215859"
     },
     "user_tz": -330
    },
    "id": "ch6uYLUTWPoe",
    "outputId": "e9afa463-68b0-4979-a004-fad75271b52e"
   },
   "outputs": [
    {
     "data": {
      "text/plain": [
       "LogisticRegression(C=1.0, class_weight=None, dual=False, fit_intercept=True,\n",
       "                   intercept_scaling=1, l1_ratio=None, max_iter=500,\n",
       "                   multi_class='auto', n_jobs=None, penalty='l2',\n",
       "                   random_state=None, solver='lbfgs', tol=0.0001, verbose=0,\n",
       "                   warm_start=False)"
      ]
     },
     "execution_count": 43,
     "metadata": {
      "tags": []
     },
     "output_type": "execute_result"
    }
   ],
   "source": [
    "#LOGISTIC REGRESSION\n",
    "\n",
    "lg_oversampled = LogisticRegression(max_iter = 500)\n",
    "lg_oversampled.fit(x_train,y_train)"
   ]
  },
  {
   "cell_type": "code",
   "execution_count": 93,
   "metadata": {
    "colab": {},
    "colab_type": "code",
    "executionInfo": {
     "elapsed": 855,
     "status": "ok",
     "timestamp": 1593739889225,
     "user": {
      "displayName": "SHREY JAIN",
      "photoUrl": "",
      "userId": "13312361493542215859"
     },
     "user_tz": -330
    },
    "id": "ZeoRmNxwWraD"
   },
   "outputs": [],
   "source": [
    "y_pred_lg_oversampled = lg_oversampled.predict(x_test)"
   ]
  },
  {
   "cell_type": "code",
   "execution_count": 97,
   "metadata": {
    "colab": {
     "base_uri": "https://localhost:8080/",
     "height": 51
    },
    "colab_type": "code",
    "executionInfo": {
     "elapsed": 1007,
     "status": "ok",
     "timestamp": 1593739977914,
     "user": {
      "displayName": "SHREY JAIN",
      "photoUrl": "",
      "userId": "13312361493542215859"
     },
     "user_tz": -330
    },
    "id": "yDMEosAlW20m",
    "outputId": "3a738115-a04a-4763-a8c7-c1b9834b6076"
   },
   "outputs": [
    {
     "data": {
      "text/plain": [
       "array([[6907, 2506],\n",
       "       [1860, 7549]])"
      ]
     },
     "execution_count": 97,
     "metadata": {
      "tags": []
     },
     "output_type": "execute_result"
    }
   ],
   "source": [
    "confusion_matrix(y_test,y_pred_lg_oversampled)"
   ]
  },
  {
   "cell_type": "code",
   "execution_count": 99,
   "metadata": {
    "colab": {
     "base_uri": "https://localhost:8080/",
     "height": 34
    },
    "colab_type": "code",
    "executionInfo": {
     "elapsed": 847,
     "status": "ok",
     "timestamp": 1593740037917,
     "user": {
      "displayName": "SHREY JAIN",
      "photoUrl": "",
      "userId": "13312361493542215859"
     },
     "user_tz": -330
    },
    "id": "UbpIkcfNTnIV",
    "outputId": "78a00dc9-14c7-4ba5-8a8d-d0a4e98e2dd8"
   },
   "outputs": [
    {
     "data": {
      "text/plain": [
       "76.80374030389969"
      ]
     },
     "execution_count": 99,
     "metadata": {
      "tags": []
     },
     "output_type": "execute_result"
    }
   ],
   "source": [
    "accuracy_score(y_test,y_pred_lg_oversampled)*100"
   ]
  },
  {
   "cell_type": "markdown",
   "metadata": {
    "colab_type": "text",
    "id": "fRm5TRPYTzd8"
   },
   "source": [
    "###### we get 76.8% accuracy in logistic regression."
   ]
  },
  {
   "cell_type": "markdown",
   "metadata": {
    "colab": {},
    "colab_type": "code",
    "id": "oXoX3noyW68R"
   },
   "source": [
    "------------------"
   ]
  },
  {
   "cell_type": "code",
   "execution_count": 101,
   "metadata": {
    "colab": {
     "base_uri": "https://localhost:8080/",
     "height": 85
    },
    "colab_type": "code",
    "executionInfo": {
     "elapsed": 54064,
     "status": "ok",
     "timestamp": 1593740261033,
     "user": {
      "displayName": "SHREY JAIN",
      "photoUrl": "",
      "userId": "13312361493542215859"
     },
     "user_tz": -330
    },
    "id": "wvoLZ1uwXGUt",
    "outputId": "f2d4f237-3eee-456d-d657-899894055de0"
   },
   "outputs": [
    {
     "data": {
      "text/plain": [
       "SVC(C=1.0, break_ties=False, cache_size=200, class_weight=None, coef0=0.0,\n",
       "    decision_function_shape='ovr', degree=3, gamma='scale', kernel='rbf',\n",
       "    max_iter=-1, probability=False, random_state=None, shrinking=True,\n",
       "    tol=0.001, verbose=False)"
      ]
     },
     "execution_count": 101,
     "metadata": {
      "tags": []
     },
     "output_type": "execute_result"
    }
   ],
   "source": [
    "## SUPPORT VECTOR MACHINES(RBF KERNEL)\n",
    "\n",
    "svc = SVC()\n",
    "svc.fit(x_train,y_train)"
   ]
  },
  {
   "cell_type": "code",
   "execution_count": 103,
   "metadata": {
    "colab": {},
    "colab_type": "code",
    "executionInfo": {
     "elapsed": 14123,
     "status": "ok",
     "timestamp": 1593740313582,
     "user": {
      "displayName": "SHREY JAIN",
      "photoUrl": "",
      "userId": "13312361493542215859"
     },
     "user_tz": -330
    },
    "id": "JzeHTkT8XJNc"
   },
   "outputs": [],
   "source": [
    "y_pred_svc_oversampled = svc.predict(x_test)"
   ]
  },
  {
   "cell_type": "code",
   "execution_count": 104,
   "metadata": {
    "colab": {
     "base_uri": "https://localhost:8080/",
     "height": 51
    },
    "colab_type": "code",
    "executionInfo": {
     "elapsed": 926,
     "status": "ok",
     "timestamp": 1593740319008,
     "user": {
      "displayName": "SHREY JAIN",
      "photoUrl": "",
      "userId": "13312361493542215859"
     },
     "user_tz": -330
    },
    "id": "Upame5GkXXRN",
    "outputId": "8178b38e-e7d0-4d8a-a08a-be6fe15d60ea"
   },
   "outputs": [
    {
     "data": {
      "text/plain": [
       "array([[6453, 2960],\n",
       "       [1567, 7842]])"
      ]
     },
     "execution_count": 104,
     "metadata": {
      "tags": []
     },
     "output_type": "execute_result"
    }
   ],
   "source": [
    "confusion_matrix(y_test,y_pred_svc_oversampled)"
   ]
  },
  {
   "cell_type": "code",
   "execution_count": 105,
   "metadata": {
    "colab": {
     "base_uri": "https://localhost:8080/",
     "height": 34
    },
    "colab_type": "code",
    "executionInfo": {
     "elapsed": 732,
     "status": "ok",
     "timestamp": 1593740338395,
     "user": {
      "displayName": "SHREY JAIN",
      "photoUrl": "",
      "userId": "13312361493542215859"
     },
     "user_tz": -330
    },
    "id": "aT0I17ixU38R",
    "outputId": "16eb8c47-6996-4398-96f8-be41f4599c40"
   },
   "outputs": [
    {
     "data": {
      "text/plain": [
       "75.9483583041122"
      ]
     },
     "execution_count": 105,
     "metadata": {
      "tags": []
     },
     "output_type": "execute_result"
    }
   ],
   "source": [
    "accuracy_score(y_test,y_pred_svc_oversampled)*100"
   ]
  },
  {
   "cell_type": "markdown",
   "metadata": {
    "colab_type": "text",
    "id": "76jJ8s6gVEoY"
   },
   "source": [
    "##### we get 75.9% accuracy in svc with rbf kernel."
   ]
  },
  {
   "cell_type": "markdown",
   "metadata": {
    "colab": {},
    "colab_type": "code",
    "id": "3PYzdKO9U_Kz"
   },
   "source": [
    "-------------"
   ]
  },
  {
   "cell_type": "code",
   "execution_count": 106,
   "metadata": {
    "colab": {
     "base_uri": "https://localhost:8080/",
     "height": 85
    },
    "colab_type": "code",
    "executionInfo": {
     "elapsed": 32110,
     "status": "ok",
     "timestamp": 1593740577575,
     "user": {
      "displayName": "SHREY JAIN",
      "photoUrl": "",
      "userId": "13312361493542215859"
     },
     "user_tz": -330
    },
    "id": "TVjtILarU_H1",
    "outputId": "b789f0ed-2a2e-4b48-e8aa-a79283b78b3a"
   },
   "outputs": [
    {
     "data": {
      "text/plain": [
       "SVC(C=1.0, break_ties=False, cache_size=200, class_weight=None, coef0=0.0,\n",
       "    decision_function_shape='ovr', degree=3, gamma='scale', kernel='poly',\n",
       "    max_iter=-1, probability=False, random_state=None, shrinking=True,\n",
       "    tol=0.001, verbose=False)"
      ]
     },
     "execution_count": 106,
     "metadata": {
      "tags": []
     },
     "output_type": "execute_result"
    }
   ],
   "source": [
    "## SUPPORT VECTOR MACHINES(POLYNOMIAL KERNEL)\n",
    "\n",
    "svc_poly = SVC(kernel = 'poly')\n",
    "svc_poly.fit(x_train,y_train)"
   ]
  },
  {
   "cell_type": "code",
   "execution_count": 107,
   "metadata": {
    "colab": {},
    "colab_type": "code",
    "executionInfo": {
     "elapsed": 6898,
     "status": "ok",
     "timestamp": 1593740588232,
     "user": {
      "displayName": "SHREY JAIN",
      "photoUrl": "",
      "userId": "13312361493542215859"
     },
     "user_tz": -330
    },
    "id": "8n-JCB5YVvo5"
   },
   "outputs": [],
   "source": [
    "y_pred_svc_poly_oversampled = svc_poly.predict(x_test)"
   ]
  },
  {
   "cell_type": "code",
   "execution_count": 108,
   "metadata": {
    "colab": {
     "base_uri": "https://localhost:8080/",
     "height": 51
    },
    "colab_type": "code",
    "executionInfo": {
     "elapsed": 772,
     "status": "ok",
     "timestamp": 1593740601368,
     "user": {
      "displayName": "SHREY JAIN",
      "photoUrl": "",
      "userId": "13312361493542215859"
     },
     "user_tz": -330
    },
    "id": "eyXW0TMwVvmQ",
    "outputId": "e4592ee9-f1b7-45ef-a4ff-959669692257"
   },
   "outputs": [
    {
     "data": {
      "text/plain": [
       "array([[7147, 2266],\n",
       "       [2140, 7269]])"
      ]
     },
     "execution_count": 108,
     "metadata": {
      "tags": []
     },
     "output_type": "execute_result"
    }
   ],
   "source": [
    "confusion_matrix(y_test,y_pred_svc_poly_oversampled)"
   ]
  },
  {
   "cell_type": "code",
   "execution_count": 109,
   "metadata": {
    "colab": {
     "base_uri": "https://localhost:8080/",
     "height": 34
    },
    "colab_type": "code",
    "executionInfo": {
     "elapsed": 813,
     "status": "ok",
     "timestamp": 1593740619750,
     "user": {
      "displayName": "SHREY JAIN",
      "photoUrl": "",
      "userId": "13312361493542215859"
     },
     "user_tz": -330
    },
    "id": "2A6P5wc3Vvju",
    "outputId": "70b7bcff-d54d-425f-c436-807963983d91"
   },
   "outputs": [
    {
     "data": {
      "text/plain": [
       "76.59122303687175"
      ]
     },
     "execution_count": 109,
     "metadata": {
      "tags": []
     },
     "output_type": "execute_result"
    }
   ],
   "source": [
    "accuracy_score(y_test,y_pred_svc_poly_oversampled)*100"
   ]
  },
  {
   "cell_type": "markdown",
   "metadata": {
    "colab_type": "text",
    "id": "Rn-VdggLWd8e"
   },
   "source": [
    "##### we get 76.5% accuracy in svc with polynomial kernel."
   ]
  },
  {
   "cell_type": "markdown",
   "metadata": {
    "colab": {},
    "colab_type": "code",
    "id": "Fdfrtj0VVvgR"
   },
   "source": [
    "------------------------------------------------------------------------------------------------------------------"
   ]
  },
  {
   "cell_type": "code",
   "execution_count": 91,
   "metadata": {
    "colab": {
     "base_uri": "https://localhost:8080/",
     "height": 68
    },
    "colab_type": "code",
    "executionInfo": {
     "elapsed": 1007,
     "status": "ok",
     "timestamp": 1593744954288,
     "user": {
      "displayName": "SHREY JAIN",
      "photoUrl": "",
      "userId": "13312361493542215859"
     },
     "user_tz": -330
    },
    "id": "1u0gnX86mRLm",
    "outputId": "fc997345-9986-4d5b-d850-fa039031d5f7"
   },
   "outputs": [
    {
     "data": {
      "text/plain": [
       "KNeighborsClassifier(algorithm='auto', leaf_size=30, metric='minkowski',\n",
       "                     metric_params=None, n_jobs=None, n_neighbors=5, p=2,\n",
       "                     weights='uniform')"
      ]
     },
     "execution_count": 91,
     "metadata": {
      "tags": []
     },
     "output_type": "execute_result"
    }
   ],
   "source": [
    "# KNN CLASSIFIER\n",
    "\n",
    "knn_oversampled = KNeighborsClassifier()\n",
    "knn_oversampled.fit(x_train,y_train)"
   ]
  },
  {
   "cell_type": "code",
   "execution_count": 92,
   "metadata": {
    "colab": {},
    "colab_type": "code",
    "executionInfo": {
     "elapsed": 1284,
     "status": "ok",
     "timestamp": 1593744997065,
     "user": {
      "displayName": "SHREY JAIN",
      "photoUrl": "",
      "userId": "13312361493542215859"
     },
     "user_tz": -330
    },
    "id": "FQysE79PmiI9"
   },
   "outputs": [],
   "source": [
    "y_pred_knn_oversampled = knn_oversampled.predict(x_test)"
   ]
  },
  {
   "cell_type": "code",
   "execution_count": 93,
   "metadata": {
    "colab": {
     "base_uri": "https://localhost:8080/",
     "height": 51
    },
    "colab_type": "code",
    "executionInfo": {
     "elapsed": 978,
     "status": "ok",
     "timestamp": 1593745018403,
     "user": {
      "displayName": "SHREY JAIN",
      "photoUrl": "",
      "userId": "13312361493542215859"
     },
     "user_tz": -330
    },
    "id": "J3qUxOzjmiTf",
    "outputId": "eacfed1b-19c6-4317-f34d-ecb164f2a2f7"
   },
   "outputs": [
    {
     "data": {
      "text/plain": [
       "array([[7777, 1617],\n",
       "       [  92, 9336]])"
      ]
     },
     "execution_count": 93,
     "metadata": {
      "tags": []
     },
     "output_type": "execute_result"
    }
   ],
   "source": [
    "confusion_matrix(y_test,y_pred_knn_oversampled)"
   ]
  },
  {
   "cell_type": "code",
   "execution_count": 94,
   "metadata": {
    "colab": {
     "base_uri": "https://localhost:8080/",
     "height": 34
    },
    "colab_type": "code",
    "executionInfo": {
     "elapsed": 927,
     "status": "ok",
     "timestamp": 1593745042269,
     "user": {
      "displayName": "SHREY JAIN",
      "photoUrl": "",
      "userId": "13312361493542215859"
     },
     "user_tz": -330
    },
    "id": "ZI6VigQ9miRO",
    "outputId": "eca59d97-7f58-4255-bc69-1d1550199bb2"
   },
   "outputs": [
    {
     "data": {
      "text/plain": [
       "90.92019976623101"
      ]
     },
     "execution_count": 94,
     "metadata": {
      "tags": []
     },
     "output_type": "execute_result"
    }
   ],
   "source": [
    "accuracy_score(y_test,y_pred_knn_oversampled)*100"
   ]
  },
  {
   "cell_type": "markdown",
   "metadata": {
    "colab_type": "text",
    "id": "JwWzDwq3mSp-"
   },
   "source": [
    "##### we get 90.9% accuracy in knn."
   ]
  },
  {
   "cell_type": "markdown",
   "metadata": {
    "colab": {},
    "colab_type": "code",
    "id": "OAB1--L3mRVP"
   },
   "source": [
    "------------------------------------------------------------------------------------------------------------------"
   ]
  },
  {
   "cell_type": "code",
   "execution_count": null,
   "metadata": {
    "colab": {
     "base_uri": "https://localhost:8080/",
     "height": 153
    },
    "colab_type": "code",
    "executionInfo": {
     "elapsed": 5083,
     "status": "ok",
     "timestamp": 1593338414672,
     "user": {
      "displayName": "SHREY JAIN",
      "photoUrl": "",
      "userId": "13312361493542215859"
     },
     "user_tz": -330
    },
    "id": "VGlSpYlqXaoJ",
    "outputId": "b6fa5daf-d03f-4477-8637-1a952a627c71"
   },
   "outputs": [
    {
     "data": {
      "text/plain": [
       "RandomForestClassifier(bootstrap=True, ccp_alpha=0.0, class_weight=None,\n",
       "                       criterion='gini', max_depth=None, max_features='auto',\n",
       "                       max_leaf_nodes=None, max_samples=None,\n",
       "                       min_impurity_decrease=0.0, min_impurity_split=None,\n",
       "                       min_samples_leaf=1, min_samples_split=2,\n",
       "                       min_weight_fraction_leaf=0.0, n_estimators=100,\n",
       "                       n_jobs=None, oob_score=False, random_state=None,\n",
       "                       verbose=0, warm_start=False)"
      ]
     },
     "execution_count": 100,
     "metadata": {
      "tags": []
     },
     "output_type": "execute_result"
    }
   ],
   "source": [
    "#RANDOM FOREST CLASSIFIER\n",
    "\n",
    "rfc = RandomForestClassifier()\n",
    "rfc.fit(x_train,y_train)"
   ]
  },
  {
   "cell_type": "code",
   "execution_count": null,
   "metadata": {
    "colab": {},
    "colab_type": "code",
    "id": "wcCDWUrcXrH5"
   },
   "outputs": [],
   "source": [
    "y_pred_rfc = rfc.predict(x_test)"
   ]
  },
  {
   "cell_type": "code",
   "execution_count": null,
   "metadata": {
    "colab": {
     "base_uri": "https://localhost:8080/",
     "height": 51
    },
    "colab_type": "code",
    "executionInfo": {
     "elapsed": 606,
     "status": "ok",
     "timestamp": 1593338449857,
     "user": {
      "displayName": "SHREY JAIN",
      "photoUrl": "",
      "userId": "13312361493542215859"
     },
     "user_tz": -330
    },
    "id": "XQCkOkTzXxMF",
    "outputId": "850cbd7b-8432-4099-91f9-24e638b0d12f"
   },
   "outputs": [
    {
     "data": {
      "text/plain": [
       "array([[9352,   13],\n",
       "       [ 191, 9266]])"
      ]
     },
     "execution_count": 102,
     "metadata": {
      "tags": []
     },
     "output_type": "execute_result"
    }
   ],
   "source": [
    "confusion_matrix(y_test,y_pred_rfc)"
   ]
  },
  {
   "cell_type": "markdown",
   "metadata": {
    "colab_type": "text",
    "id": "w-xpPQQTXmfM"
   },
   "source": [
    "##### we get 98.9% accuracy on random forest classifier."
   ]
  },
  {
   "cell_type": "markdown",
   "metadata": {
    "colab": {},
    "colab_type": "code",
    "executionInfo": {
     "elapsed": 868,
     "status": "ok",
     "timestamp": 1593741391548,
     "user": {
      "displayName": "SHREY JAIN",
      "photoUrl": "",
      "userId": "13312361493542215859"
     },
     "user_tz": -330
    },
    "id": "mLdls642X0y1"
   },
   "source": [
    "------------------------------------------------------------------------------------------------------------------"
   ]
  },
  {
   "cell_type": "markdown",
   "metadata": {
    "colab_type": "text",
    "id": "1Rdg6NB2ZBGj"
   },
   "source": [
    "**## SCALING THE OVERSAMPLED DATA FOR NEURAL NETWORKS AND THEN SPLITING THE DATASET WITH TEST RATIO OF 0.25**"
   ]
  },
  {
   "cell_type": "code",
   "execution_count": 44,
   "metadata": {
    "colab": {},
    "colab_type": "code",
    "executionInfo": {
     "elapsed": 911,
     "status": "ok",
     "timestamp": 1593741592861,
     "user": {
      "displayName": "SHREY JAIN",
      "photoUrl": "",
      "userId": "13312361493542215859"
     },
     "user_tz": -330
    },
    "id": "GXBc8gzpYga4"
   },
   "outputs": [],
   "source": [
    "x_oversampled_scaled = sc.fit_transform(x_oversampled)"
   ]
  },
  {
   "cell_type": "code",
   "execution_count": 45,
   "metadata": {
    "colab": {},
    "colab_type": "code",
    "executionInfo": {
     "elapsed": 946,
     "status": "ok",
     "timestamp": 1593741598117,
     "user": {
      "displayName": "SHREY JAIN",
      "photoUrl": "",
      "userId": "13312361493542215859"
     },
     "user_tz": -330
    },
    "id": "cxeuX5C6YtLG"
   },
   "outputs": [],
   "source": [
    "x_train_nn,x_test_nn,y_train_nn,y_test_nn = train_test_split(x_oversampled_scaled,y_oversampled,test_size=0.25)"
   ]
  },
  {
   "cell_type": "markdown",
   "metadata": {
    "colab": {},
    "colab_type": "code",
    "id": "jPexz1ogbWKl"
   },
   "source": [
    "------------------------------------------------------------------------------------------------------------------"
   ]
  },
  {
   "cell_type": "code",
   "execution_count": 48,
   "metadata": {
    "colab": {},
    "colab_type": "code",
    "executionInfo": {
     "elapsed": 969,
     "status": "ok",
     "timestamp": 1593741733561,
     "user": {
      "displayName": "SHREY JAIN",
      "photoUrl": "",
      "userId": "13312361493542215859"
     },
     "user_tz": -330
    },
    "id": "Fha0cpI5bhka"
   },
   "outputs": [],
   "source": [
    "model1 = models.Sequential([\n",
    "                   layers.Dense(x_train_nn.shape[1],activation='relu',input_dim=x_train_nn.shape[1]),\n",
    "                   layers.Dense(32,activation ='relu'),\n",
    "                   layers.Dense(16,activation = 'relu'),\n",
    "                   layers.Dense(1,activation ='sigmoid')\n",
    "])"
   ]
  },
  {
   "cell_type": "code",
   "execution_count": 49,
   "metadata": {
    "colab": {
     "base_uri": "https://localhost:8080/",
     "height": 289
    },
    "colab_type": "code",
    "executionInfo": {
     "elapsed": 861,
     "status": "ok",
     "timestamp": 1593741755172,
     "user": {
      "displayName": "SHREY JAIN",
      "photoUrl": "",
      "userId": "13312361493542215859"
     },
     "user_tz": -330
    },
    "id": "Bg4PCtf5aPyV",
    "outputId": "91f06293-045b-4b04-fe8d-641ebd267d6d"
   },
   "outputs": [
    {
     "name": "stdout",
     "output_type": "stream",
     "text": [
      "Model: \"sequential_1\"\n",
      "_________________________________________________________________\n",
      "Layer (type)                 Output Shape              Param #   \n",
      "=================================================================\n",
      "dense_1 (Dense)              (None, 10)                110       \n",
      "_________________________________________________________________\n",
      "dense_2 (Dense)              (None, 32)                352       \n",
      "_________________________________________________________________\n",
      "dense_3 (Dense)              (None, 16)                528       \n",
      "_________________________________________________________________\n",
      "dense_4 (Dense)              (None, 1)                 17        \n",
      "=================================================================\n",
      "Total params: 1,007\n",
      "Trainable params: 1,007\n",
      "Non-trainable params: 0\n",
      "_________________________________________________________________\n"
     ]
    }
   ],
   "source": [
    "model1.summary()"
   ]
  },
  {
   "cell_type": "code",
   "execution_count": 50,
   "metadata": {
    "colab": {},
    "colab_type": "code",
    "executionInfo": {
     "elapsed": 943,
     "status": "ok",
     "timestamp": 1593741800120,
     "user": {
      "displayName": "SHREY JAIN",
      "photoUrl": "",
      "userId": "13312361493542215859"
     },
     "user_tz": -330
    },
    "id": "JwU4jLI4bmdv"
   },
   "outputs": [],
   "source": [
    "model1.compile(optimizer='adam',loss='binary_crossentropy',metrics=['accuracy'])\n",
    "early_stop = EarlyStopping(patience=15)"
   ]
  },
  {
   "cell_type": "code",
   "execution_count": 52,
   "metadata": {
    "colab": {
     "base_uri": "https://localhost:8080/",
     "height": 1000
    },
    "colab_type": "code",
    "executionInfo": {
     "elapsed": 164185,
     "status": "ok",
     "timestamp": 1593742023374,
     "user": {
      "displayName": "SHREY JAIN",
      "photoUrl": "",
      "userId": "13312361493542215859"
     },
     "user_tz": -330
    },
    "id": "Ylv_HjEgagix",
    "outputId": "e569b2e7-8ba8-4999-94a8-27a2884ba3df"
   },
   "outputs": [
    {
     "name": "stdout",
     "output_type": "stream",
     "text": [
      "Train on 42775 samples, validate on 14259 samples\n",
      "Epoch 1/100\n",
      "42775/42775 [==============================] - 3s 62us/step - loss: 0.4720 - accuracy: 0.7806 - val_loss: 0.4184 - val_accuracy: 0.8111\n",
      "Epoch 2/100\n",
      "42775/42775 [==============================] - 2s 49us/step - loss: 0.3736 - accuracy: 0.8310 - val_loss: 0.3239 - val_accuracy: 0.8609\n",
      "Epoch 3/100\n",
      "42775/42775 [==============================] - 2s 49us/step - loss: 0.3017 - accuracy: 0.8666 - val_loss: 0.2830 - val_accuracy: 0.8755\n",
      "Epoch 4/100\n",
      "42775/42775 [==============================] - 2s 49us/step - loss: 0.2633 - accuracy: 0.8842 - val_loss: 0.2588 - val_accuracy: 0.8832\n",
      "Epoch 5/100\n",
      "42775/42775 [==============================] - 2s 48us/step - loss: 0.2412 - accuracy: 0.8927 - val_loss: 0.2395 - val_accuracy: 0.8906\n",
      "Epoch 6/100\n",
      "42775/42775 [==============================] - 2s 45us/step - loss: 0.2285 - accuracy: 0.8984 - val_loss: 0.2255 - val_accuracy: 0.8964\n",
      "Epoch 7/100\n",
      "42775/42775 [==============================] - 2s 44us/step - loss: 0.2191 - accuracy: 0.9025 - val_loss: 0.2094 - val_accuracy: 0.9062\n",
      "Epoch 8/100\n",
      "42775/42775 [==============================] - 2s 45us/step - loss: 0.2141 - accuracy: 0.9037 - val_loss: 0.2072 - val_accuracy: 0.9041\n",
      "Epoch 9/100\n",
      "42775/42775 [==============================] - 2s 45us/step - loss: 0.2086 - accuracy: 0.9055 - val_loss: 0.2147 - val_accuracy: 0.8981\n",
      "Epoch 10/100\n",
      "42775/42775 [==============================] - 2s 45us/step - loss: 0.2064 - accuracy: 0.9067 - val_loss: 0.1929 - val_accuracy: 0.9160\n",
      "Epoch 11/100\n",
      "42775/42775 [==============================] - 2s 45us/step - loss: 0.2032 - accuracy: 0.9083 - val_loss: 0.1954 - val_accuracy: 0.9117\n",
      "Epoch 12/100\n",
      "42775/42775 [==============================] - 2s 45us/step - loss: 0.2012 - accuracy: 0.9093 - val_loss: 0.1949 - val_accuracy: 0.9157\n",
      "Epoch 13/100\n",
      "42775/42775 [==============================] - 2s 45us/step - loss: 0.1995 - accuracy: 0.9100 - val_loss: 0.2181 - val_accuracy: 0.8950\n",
      "Epoch 14/100\n",
      "42775/42775 [==============================] - 2s 45us/step - loss: 0.1958 - accuracy: 0.9109 - val_loss: 0.1921 - val_accuracy: 0.9150\n",
      "Epoch 15/100\n",
      "42775/42775 [==============================] - 2s 44us/step - loss: 0.1942 - accuracy: 0.9133 - val_loss: 0.1866 - val_accuracy: 0.9156\n",
      "Epoch 16/100\n",
      "42775/42775 [==============================] - 2s 45us/step - loss: 0.1940 - accuracy: 0.9120 - val_loss: 0.1943 - val_accuracy: 0.9078\n",
      "Epoch 17/100\n",
      "42775/42775 [==============================] - 2s 45us/step - loss: 0.1913 - accuracy: 0.9138 - val_loss: 0.1783 - val_accuracy: 0.9198\n",
      "Epoch 18/100\n",
      "42775/42775 [==============================] - 2s 45us/step - loss: 0.1893 - accuracy: 0.9141 - val_loss: 0.1850 - val_accuracy: 0.9147\n",
      "Epoch 19/100\n",
      "42775/42775 [==============================] - 2s 45us/step - loss: 0.1886 - accuracy: 0.9153 - val_loss: 0.1820 - val_accuracy: 0.9179\n",
      "Epoch 20/100\n",
      "42775/42775 [==============================] - 2s 45us/step - loss: 0.1886 - accuracy: 0.9143 - val_loss: 0.2015 - val_accuracy: 0.9123\n",
      "Epoch 21/100\n",
      "42775/42775 [==============================] - 2s 45us/step - loss: 0.1869 - accuracy: 0.9146 - val_loss: 0.1801 - val_accuracy: 0.9179\n",
      "Epoch 22/100\n",
      "42775/42775 [==============================] - 2s 46us/step - loss: 0.1859 - accuracy: 0.9166 - val_loss: 0.1868 - val_accuracy: 0.9202\n",
      "Epoch 23/100\n",
      "42775/42775 [==============================] - 2s 45us/step - loss: 0.1892 - accuracy: 0.9141 - val_loss: 0.1727 - val_accuracy: 0.9205\n",
      "Epoch 24/100\n",
      "42775/42775 [==============================] - 2s 45us/step - loss: 0.1841 - accuracy: 0.9173 - val_loss: 0.1864 - val_accuracy: 0.9150\n",
      "Epoch 25/100\n",
      "42775/42775 [==============================] - 2s 46us/step - loss: 0.1831 - accuracy: 0.9175 - val_loss: 0.1857 - val_accuracy: 0.9163\n",
      "Epoch 26/100\n",
      "42775/42775 [==============================] - 2s 46us/step - loss: 0.1840 - accuracy: 0.9178 - val_loss: 0.1759 - val_accuracy: 0.9197\n",
      "Epoch 27/100\n",
      "42775/42775 [==============================] - 2s 46us/step - loss: 0.1810 - accuracy: 0.9185 - val_loss: 0.1855 - val_accuracy: 0.9156\n",
      "Epoch 28/100\n",
      "42775/42775 [==============================] - 2s 45us/step - loss: 0.1828 - accuracy: 0.9178 - val_loss: 0.1787 - val_accuracy: 0.9208\n",
      "Epoch 29/100\n",
      "42775/42775 [==============================] - 2s 46us/step - loss: 0.1818 - accuracy: 0.9200 - val_loss: 0.1982 - val_accuracy: 0.9148\n",
      "Epoch 30/100\n",
      "42775/42775 [==============================] - 2s 46us/step - loss: 0.1839 - accuracy: 0.9183 - val_loss: 0.1887 - val_accuracy: 0.9186\n",
      "Epoch 31/100\n",
      "42775/42775 [==============================] - 2s 46us/step - loss: 0.1799 - accuracy: 0.9196 - val_loss: 0.1711 - val_accuracy: 0.9235\n",
      "Epoch 32/100\n",
      "42775/42775 [==============================] - 2s 45us/step - loss: 0.1808 - accuracy: 0.9191 - val_loss: 0.1703 - val_accuracy: 0.9243\n",
      "Epoch 33/100\n",
      "42775/42775 [==============================] - 2s 45us/step - loss: 0.1800 - accuracy: 0.9192 - val_loss: 0.1862 - val_accuracy: 0.9142\n",
      "Epoch 34/100\n",
      "42775/42775 [==============================] - 2s 45us/step - loss: 0.1785 - accuracy: 0.9188 - val_loss: 0.1669 - val_accuracy: 0.9244\n",
      "Epoch 35/100\n",
      "42775/42775 [==============================] - 2s 46us/step - loss: 0.1796 - accuracy: 0.9195 - val_loss: 0.1804 - val_accuracy: 0.9159\n",
      "Epoch 36/100\n",
      "42775/42775 [==============================] - 2s 45us/step - loss: 0.1791 - accuracy: 0.9191 - val_loss: 0.1748 - val_accuracy: 0.9211\n",
      "Epoch 37/100\n",
      "42775/42775 [==============================] - 2s 45us/step - loss: 0.1782 - accuracy: 0.9205 - val_loss: 0.1826 - val_accuracy: 0.9168\n",
      "Epoch 38/100\n",
      "42775/42775 [==============================] - 2s 44us/step - loss: 0.1803 - accuracy: 0.9179 - val_loss: 0.1902 - val_accuracy: 0.9147\n",
      "Epoch 39/100\n",
      "42775/42775 [==============================] - 2s 45us/step - loss: 0.1782 - accuracy: 0.9195 - val_loss: 0.1764 - val_accuracy: 0.9154\n",
      "Epoch 40/100\n",
      "42775/42775 [==============================] - 2s 45us/step - loss: 0.1793 - accuracy: 0.9201 - val_loss: 0.1733 - val_accuracy: 0.9220\n",
      "Epoch 41/100\n",
      "42775/42775 [==============================] - 2s 46us/step - loss: 0.1770 - accuracy: 0.9219 - val_loss: 0.1686 - val_accuracy: 0.9238\n",
      "Epoch 42/100\n",
      "42775/42775 [==============================] - 2s 45us/step - loss: 0.1779 - accuracy: 0.9206 - val_loss: 0.1885 - val_accuracy: 0.9103\n",
      "Epoch 43/100\n",
      "42775/42775 [==============================] - 2s 45us/step - loss: 0.1784 - accuracy: 0.9211 - val_loss: 0.1698 - val_accuracy: 0.9220\n",
      "Epoch 44/100\n",
      "42775/42775 [==============================] - 2s 45us/step - loss: 0.1770 - accuracy: 0.9209 - val_loss: 0.1820 - val_accuracy: 0.9189\n",
      "Epoch 45/100\n",
      "42775/42775 [==============================] - 2s 46us/step - loss: 0.1763 - accuracy: 0.9206 - val_loss: 0.1659 - val_accuracy: 0.9257\n",
      "Epoch 46/100\n",
      "42775/42775 [==============================] - 2s 46us/step - loss: 0.1759 - accuracy: 0.9222 - val_loss: 0.1919 - val_accuracy: 0.9079\n",
      "Epoch 47/100\n",
      "42775/42775 [==============================] - 2s 46us/step - loss: 0.1785 - accuracy: 0.9190 - val_loss: 0.1635 - val_accuracy: 0.9283\n",
      "Epoch 48/100\n",
      "42775/42775 [==============================] - 2s 45us/step - loss: 0.1773 - accuracy: 0.9219 - val_loss: 0.1789 - val_accuracy: 0.9210\n",
      "Epoch 49/100\n",
      "42775/42775 [==============================] - 2s 45us/step - loss: 0.1744 - accuracy: 0.9213 - val_loss: 0.1713 - val_accuracy: 0.9234\n",
      "Epoch 50/100\n",
      "42775/42775 [==============================] - 2s 46us/step - loss: 0.1763 - accuracy: 0.9206 - val_loss: 0.1859 - val_accuracy: 0.9106\n",
      "Epoch 51/100\n",
      "42775/42775 [==============================] - 2s 45us/step - loss: 0.1742 - accuracy: 0.9212 - val_loss: 0.1883 - val_accuracy: 0.9109\n",
      "Epoch 52/100\n",
      "42775/42775 [==============================] - 2s 45us/step - loss: 0.1747 - accuracy: 0.9222 - val_loss: 0.1696 - val_accuracy: 0.9247\n",
      "Epoch 53/100\n",
      "42775/42775 [==============================] - 2s 45us/step - loss: 0.1744 - accuracy: 0.9202 - val_loss: 0.1706 - val_accuracy: 0.9239\n",
      "Epoch 54/100\n",
      "42775/42775 [==============================] - 2s 45us/step - loss: 0.1726 - accuracy: 0.9231 - val_loss: 0.1634 - val_accuracy: 0.9268\n",
      "Epoch 55/100\n",
      "42775/42775 [==============================] - 2s 45us/step - loss: 0.1746 - accuracy: 0.9211 - val_loss: 0.1778 - val_accuracy: 0.9189\n",
      "Epoch 56/100\n",
      "42775/42775 [==============================] - 2s 46us/step - loss: 0.1713 - accuracy: 0.9231 - val_loss: 0.1707 - val_accuracy: 0.9245\n",
      "Epoch 57/100\n",
      "42775/42775 [==============================] - 2s 46us/step - loss: 0.1733 - accuracy: 0.9196 - val_loss: 0.1775 - val_accuracy: 0.9250\n",
      "Epoch 58/100\n",
      "42775/42775 [==============================] - 2s 45us/step - loss: 0.1734 - accuracy: 0.9220 - val_loss: 0.1717 - val_accuracy: 0.9253\n",
      "Epoch 59/100\n",
      "42775/42775 [==============================] - 2s 45us/step - loss: 0.1734 - accuracy: 0.9235 - val_loss: 0.1841 - val_accuracy: 0.9186\n",
      "Epoch 60/100\n",
      "42775/42775 [==============================] - 2s 45us/step - loss: 0.1710 - accuracy: 0.9239 - val_loss: 0.1738 - val_accuracy: 0.9219\n",
      "Epoch 61/100\n",
      "42775/42775 [==============================] - 2s 45us/step - loss: 0.1742 - accuracy: 0.9221 - val_loss: 0.1744 - val_accuracy: 0.9207\n",
      "Epoch 62/100\n",
      "42775/42775 [==============================] - 2s 46us/step - loss: 0.1720 - accuracy: 0.9209 - val_loss: 0.1716 - val_accuracy: 0.9205\n",
      "Epoch 63/100\n",
      "42775/42775 [==============================] - 2s 46us/step - loss: 0.1718 - accuracy: 0.9224 - val_loss: 0.1845 - val_accuracy: 0.9189\n",
      "Epoch 64/100\n",
      "42775/42775 [==============================] - 2s 45us/step - loss: 0.1721 - accuracy: 0.9227 - val_loss: 0.1708 - val_accuracy: 0.9207\n",
      "Epoch 65/100\n",
      "42775/42775 [==============================] - 2s 45us/step - loss: 0.1718 - accuracy: 0.9224 - val_loss: 0.1624 - val_accuracy: 0.9298\n",
      "Epoch 66/100\n",
      "42775/42775 [==============================] - 2s 49us/step - loss: 0.1701 - accuracy: 0.9238 - val_loss: 0.1652 - val_accuracy: 0.9259\n",
      "Epoch 67/100\n",
      "42775/42775 [==============================] - 2s 51us/step - loss: 0.1706 - accuracy: 0.9237 - val_loss: 0.1816 - val_accuracy: 0.9185\n",
      "Epoch 68/100\n",
      "42775/42775 [==============================] - 2s 51us/step - loss: 0.1693 - accuracy: 0.9245 - val_loss: 0.1604 - val_accuracy: 0.9260\n",
      "Epoch 69/100\n",
      "42775/42775 [==============================] - 2s 45us/step - loss: 0.1701 - accuracy: 0.9226 - val_loss: 0.1716 - val_accuracy: 0.9221\n",
      "Epoch 70/100\n",
      "42775/42775 [==============================] - 2s 45us/step - loss: 0.1685 - accuracy: 0.9235 - val_loss: 0.1822 - val_accuracy: 0.9135\n",
      "Epoch 71/100\n",
      "42775/42775 [==============================] - 2s 46us/step - loss: 0.1701 - accuracy: 0.9240 - val_loss: 0.1664 - val_accuracy: 0.9259\n",
      "Epoch 72/100\n",
      "42775/42775 [==============================] - 2s 45us/step - loss: 0.1699 - accuracy: 0.9251 - val_loss: 0.1693 - val_accuracy: 0.9226\n",
      "Epoch 73/100\n",
      "42775/42775 [==============================] - 2s 46us/step - loss: 0.1697 - accuracy: 0.9233 - val_loss: 0.1763 - val_accuracy: 0.9202\n",
      "Epoch 74/100\n",
      "42775/42775 [==============================] - 2s 46us/step - loss: 0.1688 - accuracy: 0.9258 - val_loss: 0.1628 - val_accuracy: 0.9273\n",
      "Epoch 75/100\n",
      "42775/42775 [==============================] - 2s 45us/step - loss: 0.1692 - accuracy: 0.9240 - val_loss: 0.1658 - val_accuracy: 0.9267\n",
      "Epoch 76/100\n",
      "42775/42775 [==============================] - 2s 46us/step - loss: 0.1679 - accuracy: 0.9250 - val_loss: 0.1630 - val_accuracy: 0.9269\n",
      "Epoch 77/100\n",
      "42775/42775 [==============================] - 2s 45us/step - loss: 0.1661 - accuracy: 0.9260 - val_loss: 0.1750 - val_accuracy: 0.9225\n",
      "Epoch 78/100\n",
      "42775/42775 [==============================] - 2s 45us/step - loss: 0.1691 - accuracy: 0.9245 - val_loss: 0.1696 - val_accuracy: 0.9236\n",
      "Epoch 79/100\n",
      "42775/42775 [==============================] - 2s 46us/step - loss: 0.1686 - accuracy: 0.9246 - val_loss: 0.1681 - val_accuracy: 0.9252\n",
      "Epoch 80/100\n",
      "42775/42775 [==============================] - 2s 45us/step - loss: 0.1675 - accuracy: 0.9254 - val_loss: 0.1627 - val_accuracy: 0.9266\n",
      "Epoch 81/100\n",
      "42775/42775 [==============================] - 2s 45us/step - loss: 0.1689 - accuracy: 0.9240 - val_loss: 0.1656 - val_accuracy: 0.9253\n",
      "Epoch 82/100\n",
      "42775/42775 [==============================] - 2s 45us/step - loss: 0.1679 - accuracy: 0.9237 - val_loss: 0.1673 - val_accuracy: 0.9278\n",
      "Epoch 83/100\n",
      "42775/42775 [==============================] - 2s 45us/step - loss: 0.1688 - accuracy: 0.9248 - val_loss: 0.1791 - val_accuracy: 0.9189\n"
     ]
    },
    {
     "data": {
      "text/plain": [
       "<keras.callbacks.callbacks.History at 0x7fed3f78b198>"
      ]
     },
     "execution_count": 52,
     "metadata": {
      "tags": []
     },
     "output_type": "execute_result"
    }
   ],
   "source": [
    "model1.fit(x_train_nn, y_train_nn, validation_data = (x_test_nn,y_test_nn), callbacks = [early_stop], epochs=100)"
   ]
  },
  {
   "cell_type": "code",
   "execution_count": 53,
   "metadata": {
    "colab": {},
    "colab_type": "code",
    "executionInfo": {
     "elapsed": 874,
     "status": "ok",
     "timestamp": 1593742075678,
     "user": {
      "displayName": "SHREY JAIN",
      "photoUrl": "",
      "userId": "13312361493542215859"
     },
     "user_tz": -330
    },
    "id": "Ehm0PpUkb1L5"
   },
   "outputs": [],
   "source": [
    "y_pred_nn = model1.predict_classes(x_test_nn)"
   ]
  },
  {
   "cell_type": "code",
   "execution_count": 54,
   "metadata": {
    "colab": {
     "base_uri": "https://localhost:8080/",
     "height": 51
    },
    "colab_type": "code",
    "executionInfo": {
     "elapsed": 908,
     "status": "ok",
     "timestamp": 1593742078959,
     "user": {
      "displayName": "SHREY JAIN",
      "photoUrl": "",
      "userId": "13312361493542215859"
     },
     "user_tz": -330
    },
    "id": "nNrW0GLhcgHs",
    "outputId": "9a26a8cb-325b-4e3d-9edd-328f888d2aaa"
   },
   "outputs": [
    {
     "data": {
      "text/plain": [
       "array([[6567,  596],\n",
       "       [ 561, 6535]])"
      ]
     },
     "execution_count": 54,
     "metadata": {
      "tags": []
     },
     "output_type": "execute_result"
    }
   ],
   "source": [
    "confusion_matrix(y_test_nn,y_pred_nn)"
   ]
  },
  {
   "cell_type": "code",
   "execution_count": 55,
   "metadata": {
    "colab": {
     "base_uri": "https://localhost:8080/",
     "height": 34
    },
    "colab_type": "code",
    "executionInfo": {
     "elapsed": 849,
     "status": "ok",
     "timestamp": 1593742095645,
     "user": {
      "displayName": "SHREY JAIN",
      "photoUrl": "",
      "userId": "13312361493542215859"
     },
     "user_tz": -330
    },
    "id": "YLhvpEpZcmFs",
    "outputId": "a95604f9-21ad-4fc8-d83c-729bd0219717"
   },
   "outputs": [
    {
     "data": {
      "text/plain": [
       "0.9188582649554667"
      ]
     },
     "execution_count": 55,
     "metadata": {
      "tags": []
     },
     "output_type": "execute_result"
    }
   ],
   "source": [
    "accuracy_score(y_test_nn,y_pred_nn)"
   ]
  },
  {
   "cell_type": "markdown",
   "metadata": {
    "colab_type": "text",
    "id": "uM9CrYZHbrR_"
   },
   "source": [
    "##### NEURAL NETWORKS MODEL1 GIVES US 91.8% ACCURACY"
   ]
  },
  {
   "cell_type": "markdown",
   "metadata": {
    "colab": {},
    "colab_type": "code",
    "id": "icDd1kKYiYuy"
   },
   "source": [
    "------------------------------------------------------------------------------------------------------------------"
   ]
  },
  {
   "cell_type": "code",
   "execution_count": 57,
   "metadata": {
    "colab": {},
    "colab_type": "code",
    "executionInfo": {
     "elapsed": 990,
     "status": "ok",
     "timestamp": 1593742308845,
     "user": {
      "displayName": "SHREY JAIN",
      "photoUrl": "",
      "userId": "13312361493542215859"
     },
     "user_tz": -330
    },
    "id": "h0wdn7_ybpzB"
   },
   "outputs": [],
   "source": [
    "model2 = models.Sequential([\n",
    "                   layers.Dense(x_train_nn.shape[1],activation='relu',input_dim=x_train_nn.shape[1]),\n",
    "                   layers.Dense(32,activation ='relu'),\n",
    "                   layers.Dense(64,activation = 'relu'),\n",
    "                   layers.Dense(32,activation ='relu'),\n",
    "                   layers.Dense(8,activation ='relu'),\n",
    "                   layers.Dense(1,activation ='sigmoid')\n",
    "])"
   ]
  },
  {
   "cell_type": "code",
   "execution_count": 58,
   "metadata": {
    "colab": {
     "base_uri": "https://localhost:8080/",
     "height": 357
    },
    "colab_type": "code",
    "executionInfo": {
     "elapsed": 1041,
     "status": "ok",
     "timestamp": 1593742310076,
     "user": {
      "displayName": "SHREY JAIN",
      "photoUrl": "",
      "userId": "13312361493542215859"
     },
     "user_tz": -330
    },
    "id": "x3A0rJk7bpwR",
    "outputId": "296d042b-850c-4150-8294-9a544b55cae0"
   },
   "outputs": [
    {
     "name": "stdout",
     "output_type": "stream",
     "text": [
      "Model: \"sequential_2\"\n",
      "_________________________________________________________________\n",
      "Layer (type)                 Output Shape              Param #   \n",
      "=================================================================\n",
      "dense_5 (Dense)              (None, 10)                110       \n",
      "_________________________________________________________________\n",
      "dense_6 (Dense)              (None, 32)                352       \n",
      "_________________________________________________________________\n",
      "dense_7 (Dense)              (None, 64)                2112      \n",
      "_________________________________________________________________\n",
      "dense_8 (Dense)              (None, 32)                2080      \n",
      "_________________________________________________________________\n",
      "dense_9 (Dense)              (None, 8)                 264       \n",
      "_________________________________________________________________\n",
      "dense_10 (Dense)             (None, 1)                 9         \n",
      "=================================================================\n",
      "Total params: 4,927\n",
      "Trainable params: 4,927\n",
      "Non-trainable params: 0\n",
      "_________________________________________________________________\n"
     ]
    }
   ],
   "source": [
    "model2.summary()"
   ]
  },
  {
   "cell_type": "code",
   "execution_count": 60,
   "metadata": {
    "colab": {},
    "colab_type": "code",
    "executionInfo": {
     "elapsed": 1181,
     "status": "ok",
     "timestamp": 1593742372229,
     "user": {
      "displayName": "SHREY JAIN",
      "photoUrl": "",
      "userId": "13312361493542215859"
     },
     "user_tz": -330
    },
    "id": "PK-_GbUjbptu"
   },
   "outputs": [],
   "source": [
    "model2.compile(optimizer='adam',loss='binary_crossentropy',metrics=['accuracy'])\n",
    "early_stop = EarlyStopping(patience=15)"
   ]
  },
  {
   "cell_type": "code",
   "execution_count": 61,
   "metadata": {
    "colab": {
     "base_uri": "https://localhost:8080/",
     "height": 1000
    },
    "colab_type": "code",
    "executionInfo": {
     "elapsed": 222067,
     "status": "ok",
     "timestamp": 1593742593537,
     "user": {
      "displayName": "SHREY JAIN",
      "photoUrl": "",
      "userId": "13312361493542215859"
     },
     "user_tz": -330
    },
    "id": "i5KNrudYbpqz",
    "outputId": "6411e57d-6453-4dcf-e387-b7a99dca5dad"
   },
   "outputs": [
    {
     "name": "stdout",
     "output_type": "stream",
     "text": [
      "Train on 42775 samples, validate on 14259 samples\n",
      "Epoch 1/100\n",
      "42775/42775 [==============================] - 2s 55us/step - loss: 0.4427 - accuracy: 0.7913 - val_loss: 0.3703 - val_accuracy: 0.8288\n",
      "Epoch 2/100\n",
      "42775/42775 [==============================] - 2s 51us/step - loss: 0.3473 - accuracy: 0.8395 - val_loss: 0.3044 - val_accuracy: 0.8622\n",
      "Epoch 3/100\n",
      "42775/42775 [==============================] - 2s 51us/step - loss: 0.2956 - accuracy: 0.8634 - val_loss: 0.2652 - val_accuracy: 0.8822\n",
      "Epoch 4/100\n",
      "42775/42775 [==============================] - 2s 52us/step - loss: 0.2666 - accuracy: 0.8775 - val_loss: 0.2761 - val_accuracy: 0.8759\n",
      "Epoch 5/100\n",
      "42775/42775 [==============================] - 2s 51us/step - loss: 0.2504 - accuracy: 0.8840 - val_loss: 0.2399 - val_accuracy: 0.8886\n",
      "Epoch 6/100\n",
      "42775/42775 [==============================] - 2s 52us/step - loss: 0.2362 - accuracy: 0.8916 - val_loss: 0.2231 - val_accuracy: 0.8988\n",
      "Epoch 7/100\n",
      "42775/42775 [==============================] - 2s 51us/step - loss: 0.2266 - accuracy: 0.8963 - val_loss: 0.2214 - val_accuracy: 0.8989\n",
      "Epoch 8/100\n",
      "42775/42775 [==============================] - 2s 51us/step - loss: 0.2166 - accuracy: 0.9007 - val_loss: 0.2179 - val_accuracy: 0.9028\n",
      "Epoch 9/100\n",
      "42775/42775 [==============================] - 2s 52us/step - loss: 0.2135 - accuracy: 0.9022 - val_loss: 0.2022 - val_accuracy: 0.9078\n",
      "Epoch 10/100\n",
      "42775/42775 [==============================] - 2s 51us/step - loss: 0.2076 - accuracy: 0.9058 - val_loss: 0.2232 - val_accuracy: 0.8993\n",
      "Epoch 11/100\n",
      "42775/42775 [==============================] - 2s 51us/step - loss: 0.2051 - accuracy: 0.9069 - val_loss: 0.2257 - val_accuracy: 0.8999\n",
      "Epoch 12/100\n",
      "42775/42775 [==============================] - 2s 51us/step - loss: 0.2010 - accuracy: 0.9084 - val_loss: 0.2096 - val_accuracy: 0.9052\n",
      "Epoch 13/100\n",
      "42775/42775 [==============================] - 2s 52us/step - loss: 0.1963 - accuracy: 0.9104 - val_loss: 0.1848 - val_accuracy: 0.9156\n",
      "Epoch 14/100\n",
      "42775/42775 [==============================] - 2s 51us/step - loss: 0.1940 - accuracy: 0.9125 - val_loss: 0.1811 - val_accuracy: 0.9216\n",
      "Epoch 15/100\n",
      "42775/42775 [==============================] - 2s 51us/step - loss: 0.1915 - accuracy: 0.9137 - val_loss: 0.1967 - val_accuracy: 0.9097\n",
      "Epoch 16/100\n",
      "42775/42775 [==============================] - 2s 52us/step - loss: 0.1881 - accuracy: 0.9151 - val_loss: 0.1825 - val_accuracy: 0.9182\n",
      "Epoch 17/100\n",
      "42775/42775 [==============================] - 2s 51us/step - loss: 0.1871 - accuracy: 0.9149 - val_loss: 0.1930 - val_accuracy: 0.9135\n",
      "Epoch 18/100\n",
      "42775/42775 [==============================] - 2s 51us/step - loss: 0.1849 - accuracy: 0.9158 - val_loss: 0.1993 - val_accuracy: 0.9064\n",
      "Epoch 19/100\n",
      "42775/42775 [==============================] - 2s 52us/step - loss: 0.1835 - accuracy: 0.9171 - val_loss: 0.1814 - val_accuracy: 0.9192\n",
      "Epoch 20/100\n",
      "42775/42775 [==============================] - 2s 51us/step - loss: 0.1801 - accuracy: 0.9184 - val_loss: 0.1887 - val_accuracy: 0.9130\n",
      "Epoch 21/100\n",
      "42775/42775 [==============================] - 2s 51us/step - loss: 0.1779 - accuracy: 0.9196 - val_loss: 0.1774 - val_accuracy: 0.9176\n",
      "Epoch 22/100\n",
      "42775/42775 [==============================] - 2s 51us/step - loss: 0.1783 - accuracy: 0.9193 - val_loss: 0.1812 - val_accuracy: 0.9212\n",
      "Epoch 23/100\n",
      "42775/42775 [==============================] - 2s 51us/step - loss: 0.1746 - accuracy: 0.9219 - val_loss: 0.1808 - val_accuracy: 0.9211\n",
      "Epoch 24/100\n",
      "42775/42775 [==============================] - 2s 51us/step - loss: 0.1724 - accuracy: 0.9225 - val_loss: 0.1705 - val_accuracy: 0.9222\n",
      "Epoch 25/100\n",
      "42775/42775 [==============================] - 2s 51us/step - loss: 0.1730 - accuracy: 0.9215 - val_loss: 0.1664 - val_accuracy: 0.9262\n",
      "Epoch 26/100\n",
      "42775/42775 [==============================] - 2s 51us/step - loss: 0.1696 - accuracy: 0.9242 - val_loss: 0.1649 - val_accuracy: 0.9258\n",
      "Epoch 27/100\n",
      "42775/42775 [==============================] - 2s 51us/step - loss: 0.1689 - accuracy: 0.9238 - val_loss: 0.1731 - val_accuracy: 0.9238\n",
      "Epoch 28/100\n",
      "42775/42775 [==============================] - 2s 52us/step - loss: 0.1692 - accuracy: 0.9243 - val_loss: 0.1790 - val_accuracy: 0.9203\n",
      "Epoch 29/100\n",
      "42775/42775 [==============================] - 2s 51us/step - loss: 0.1684 - accuracy: 0.9238 - val_loss: 0.1618 - val_accuracy: 0.9304\n",
      "Epoch 30/100\n",
      "42775/42775 [==============================] - 2s 52us/step - loss: 0.1627 - accuracy: 0.9271 - val_loss: 0.1574 - val_accuracy: 0.9323\n",
      "Epoch 31/100\n",
      "42775/42775 [==============================] - 2s 52us/step - loss: 0.1635 - accuracy: 0.9267 - val_loss: 0.1675 - val_accuracy: 0.9245\n",
      "Epoch 32/100\n",
      "42775/42775 [==============================] - 2s 51us/step - loss: 0.1628 - accuracy: 0.9276 - val_loss: 0.1836 - val_accuracy: 0.9163\n",
      "Epoch 33/100\n",
      "42775/42775 [==============================] - 2s 52us/step - loss: 0.1619 - accuracy: 0.9272 - val_loss: 0.1772 - val_accuracy: 0.9219\n",
      "Epoch 34/100\n",
      "42775/42775 [==============================] - 2s 51us/step - loss: 0.1583 - accuracy: 0.9305 - val_loss: 0.1581 - val_accuracy: 0.9311\n",
      "Epoch 35/100\n",
      "42775/42775 [==============================] - 2s 51us/step - loss: 0.1576 - accuracy: 0.9281 - val_loss: 0.1533 - val_accuracy: 0.9341\n",
      "Epoch 36/100\n",
      "42775/42775 [==============================] - 2s 51us/step - loss: 0.1575 - accuracy: 0.9301 - val_loss: 0.1616 - val_accuracy: 0.9250\n",
      "Epoch 37/100\n",
      "42775/42775 [==============================] - 2s 52us/step - loss: 0.1565 - accuracy: 0.9302 - val_loss: 0.1636 - val_accuracy: 0.9271\n",
      "Epoch 38/100\n",
      "42775/42775 [==============================] - 2s 51us/step - loss: 0.1529 - accuracy: 0.9323 - val_loss: 0.1535 - val_accuracy: 0.9324\n",
      "Epoch 39/100\n",
      "42775/42775 [==============================] - 2s 51us/step - loss: 0.1528 - accuracy: 0.9327 - val_loss: 0.1551 - val_accuracy: 0.9322\n",
      "Epoch 40/100\n",
      "42775/42775 [==============================] - 2s 51us/step - loss: 0.1530 - accuracy: 0.9315 - val_loss: 0.1560 - val_accuracy: 0.9320\n",
      "Epoch 41/100\n",
      "42775/42775 [==============================] - 2s 51us/step - loss: 0.1506 - accuracy: 0.9329 - val_loss: 0.1612 - val_accuracy: 0.9291\n",
      "Epoch 42/100\n",
      "42775/42775 [==============================] - 2s 51us/step - loss: 0.1488 - accuracy: 0.9341 - val_loss: 0.1634 - val_accuracy: 0.9287\n",
      "Epoch 43/100\n",
      "42775/42775 [==============================] - 2s 51us/step - loss: 0.1493 - accuracy: 0.9338 - val_loss: 0.1654 - val_accuracy: 0.9282\n",
      "Epoch 44/100\n",
      "42775/42775 [==============================] - 2s 51us/step - loss: 0.1467 - accuracy: 0.9351 - val_loss: 0.1820 - val_accuracy: 0.9199\n",
      "Epoch 45/100\n",
      "42775/42775 [==============================] - 2s 51us/step - loss: 0.1473 - accuracy: 0.9349 - val_loss: 0.1529 - val_accuracy: 0.9315\n",
      "Epoch 46/100\n",
      "42775/42775 [==============================] - 2s 51us/step - loss: 0.1464 - accuracy: 0.9347 - val_loss: 0.1489 - val_accuracy: 0.9355\n",
      "Epoch 47/100\n",
      "42775/42775 [==============================] - 2s 51us/step - loss: 0.1455 - accuracy: 0.9358 - val_loss: 0.1535 - val_accuracy: 0.9337\n",
      "Epoch 48/100\n",
      "42775/42775 [==============================] - 2s 51us/step - loss: 0.1434 - accuracy: 0.9377 - val_loss: 0.1560 - val_accuracy: 0.9303\n",
      "Epoch 49/100\n",
      "42775/42775 [==============================] - 2s 51us/step - loss: 0.1412 - accuracy: 0.9375 - val_loss: 0.1459 - val_accuracy: 0.9362\n",
      "Epoch 50/100\n",
      "42775/42775 [==============================] - 2s 51us/step - loss: 0.1403 - accuracy: 0.9381 - val_loss: 0.1476 - val_accuracy: 0.9339\n",
      "Epoch 51/100\n",
      "42775/42775 [==============================] - 2s 55us/step - loss: 0.1403 - accuracy: 0.9385 - val_loss: 0.1413 - val_accuracy: 0.9391\n",
      "Epoch 52/100\n",
      "42775/42775 [==============================] - 2s 57us/step - loss: 0.1399 - accuracy: 0.9391 - val_loss: 0.1818 - val_accuracy: 0.9154\n",
      "Epoch 53/100\n",
      "42775/42775 [==============================] - 2s 56us/step - loss: 0.1393 - accuracy: 0.9382 - val_loss: 0.1547 - val_accuracy: 0.9309\n",
      "Epoch 54/100\n",
      "42775/42775 [==============================] - 2s 57us/step - loss: 0.1387 - accuracy: 0.9394 - val_loss: 0.1422 - val_accuracy: 0.9401\n",
      "Epoch 55/100\n",
      "42775/42775 [==============================] - 2s 54us/step - loss: 0.1375 - accuracy: 0.9400 - val_loss: 0.1454 - val_accuracy: 0.9374\n",
      "Epoch 56/100\n",
      "42775/42775 [==============================] - 2s 52us/step - loss: 0.1359 - accuracy: 0.9410 - val_loss: 0.1441 - val_accuracy: 0.9389\n",
      "Epoch 57/100\n",
      "42775/42775 [==============================] - 2s 51us/step - loss: 0.1377 - accuracy: 0.9408 - val_loss: 0.1418 - val_accuracy: 0.9424\n",
      "Epoch 58/100\n",
      "42775/42775 [==============================] - 2s 51us/step - loss: 0.1340 - accuracy: 0.9417 - val_loss: 0.1325 - val_accuracy: 0.9421\n",
      "Epoch 59/100\n",
      "42775/42775 [==============================] - 2s 51us/step - loss: 0.1354 - accuracy: 0.9415 - val_loss: 0.1421 - val_accuracy: 0.9394\n",
      "Epoch 60/100\n",
      "42775/42775 [==============================] - 2s 51us/step - loss: 0.1353 - accuracy: 0.9409 - val_loss: 0.1458 - val_accuracy: 0.9360\n",
      "Epoch 61/100\n",
      "42775/42775 [==============================] - 2s 52us/step - loss: 0.1326 - accuracy: 0.9427 - val_loss: 0.1448 - val_accuracy: 0.9377\n",
      "Epoch 62/100\n",
      "42775/42775 [==============================] - 2s 51us/step - loss: 0.1319 - accuracy: 0.9421 - val_loss: 0.1497 - val_accuracy: 0.9363\n",
      "Epoch 63/100\n",
      "42775/42775 [==============================] - 2s 51us/step - loss: 0.1327 - accuracy: 0.9426 - val_loss: 0.1547 - val_accuracy: 0.9355\n",
      "Epoch 64/100\n",
      "42775/42775 [==============================] - 2s 51us/step - loss: 0.1313 - accuracy: 0.9432 - val_loss: 0.1569 - val_accuracy: 0.9310\n",
      "Epoch 65/100\n",
      "42775/42775 [==============================] - 2s 51us/step - loss: 0.1309 - accuracy: 0.9444 - val_loss: 0.1470 - val_accuracy: 0.9350\n",
      "Epoch 66/100\n",
      "42775/42775 [==============================] - 2s 52us/step - loss: 0.1314 - accuracy: 0.9427 - val_loss: 0.1347 - val_accuracy: 0.9430\n",
      "Epoch 67/100\n",
      "42775/42775 [==============================] - 2s 51us/step - loss: 0.1303 - accuracy: 0.9432 - val_loss: 0.1382 - val_accuracy: 0.9386\n",
      "Epoch 68/100\n",
      "42775/42775 [==============================] - 2s 51us/step - loss: 0.1294 - accuracy: 0.9437 - val_loss: 0.1310 - val_accuracy: 0.9449\n",
      "Epoch 69/100\n",
      "42775/42775 [==============================] - 2s 51us/step - loss: 0.1276 - accuracy: 0.9446 - val_loss: 0.1539 - val_accuracy: 0.9343\n",
      "Epoch 70/100\n",
      "42775/42775 [==============================] - 2s 51us/step - loss: 0.1269 - accuracy: 0.9450 - val_loss: 0.1553 - val_accuracy: 0.9311\n",
      "Epoch 71/100\n",
      "42775/42775 [==============================] - 2s 51us/step - loss: 0.1282 - accuracy: 0.9450 - val_loss: 0.1402 - val_accuracy: 0.9402\n",
      "Epoch 72/100\n",
      "42775/42775 [==============================] - 2s 51us/step - loss: 0.1278 - accuracy: 0.9457 - val_loss: 0.1350 - val_accuracy: 0.9401\n",
      "Epoch 73/100\n",
      "42775/42775 [==============================] - 2s 51us/step - loss: 0.1256 - accuracy: 0.9462 - val_loss: 0.1448 - val_accuracy: 0.9367\n",
      "Epoch 74/100\n",
      "42775/42775 [==============================] - 2s 52us/step - loss: 0.1246 - accuracy: 0.9467 - val_loss: 0.1344 - val_accuracy: 0.9426\n",
      "Epoch 75/100\n",
      "42775/42775 [==============================] - 2s 51us/step - loss: 0.1253 - accuracy: 0.9464 - val_loss: 0.1331 - val_accuracy: 0.9417\n",
      "Epoch 76/100\n",
      "42775/42775 [==============================] - 2s 52us/step - loss: 0.1226 - accuracy: 0.9474 - val_loss: 0.1409 - val_accuracy: 0.9405\n",
      "Epoch 77/100\n",
      "42775/42775 [==============================] - 2s 52us/step - loss: 0.1247 - accuracy: 0.9460 - val_loss: 0.1419 - val_accuracy: 0.9386\n",
      "Epoch 78/100\n",
      "42775/42775 [==============================] - 2s 52us/step - loss: 0.1223 - accuracy: 0.9464 - val_loss: 0.1411 - val_accuracy: 0.9382\n",
      "Epoch 79/100\n",
      "42775/42775 [==============================] - 2s 51us/step - loss: 0.1218 - accuracy: 0.9473 - val_loss: 0.1267 - val_accuracy: 0.9486\n",
      "Epoch 80/100\n",
      "42775/42775 [==============================] - 2s 52us/step - loss: 0.1227 - accuracy: 0.9482 - val_loss: 0.1268 - val_accuracy: 0.9462\n",
      "Epoch 81/100\n",
      "42775/42775 [==============================] - 2s 51us/step - loss: 0.1213 - accuracy: 0.9488 - val_loss: 0.1332 - val_accuracy: 0.9440\n",
      "Epoch 82/100\n",
      "42775/42775 [==============================] - 2s 51us/step - loss: 0.1233 - accuracy: 0.9467 - val_loss: 0.1386 - val_accuracy: 0.9402\n",
      "Epoch 83/100\n",
      "42775/42775 [==============================] - 2s 51us/step - loss: 0.1203 - accuracy: 0.9477 - val_loss: 0.1288 - val_accuracy: 0.9435\n",
      "Epoch 84/100\n",
      "42775/42775 [==============================] - 2s 51us/step - loss: 0.1217 - accuracy: 0.9475 - val_loss: 0.1383 - val_accuracy: 0.9409\n",
      "Epoch 85/100\n",
      "42775/42775 [==============================] - 2s 52us/step - loss: 0.1187 - accuracy: 0.9492 - val_loss: 0.1295 - val_accuracy: 0.9449\n",
      "Epoch 86/100\n",
      "42775/42775 [==============================] - 2s 52us/step - loss: 0.1213 - accuracy: 0.9470 - val_loss: 0.1435 - val_accuracy: 0.9388\n",
      "Epoch 87/100\n",
      "42775/42775 [==============================] - 2s 51us/step - loss: 0.1192 - accuracy: 0.9493 - val_loss: 0.1267 - val_accuracy: 0.9461\n",
      "Epoch 88/100\n",
      "42775/42775 [==============================] - 2s 51us/step - loss: 0.1183 - accuracy: 0.9497 - val_loss: 0.1477 - val_accuracy: 0.9367\n",
      "Epoch 89/100\n",
      "42775/42775 [==============================] - 2s 52us/step - loss: 0.1181 - accuracy: 0.9500 - val_loss: 0.1430 - val_accuracy: 0.9395\n",
      "Epoch 90/100\n",
      "42775/42775 [==============================] - 2s 51us/step - loss: 0.1193 - accuracy: 0.9489 - val_loss: 0.1287 - val_accuracy: 0.9458\n",
      "Epoch 91/100\n",
      "42775/42775 [==============================] - 2s 51us/step - loss: 0.1184 - accuracy: 0.9492 - val_loss: 0.1343 - val_accuracy: 0.9415\n",
      "Epoch 92/100\n",
      "42775/42775 [==============================] - 2s 51us/step - loss: 0.1174 - accuracy: 0.9498 - val_loss: 0.1490 - val_accuracy: 0.9395\n",
      "Epoch 93/100\n",
      "42775/42775 [==============================] - 2s 51us/step - loss: 0.1146 - accuracy: 0.9516 - val_loss: 0.1296 - val_accuracy: 0.9441\n",
      "Epoch 94/100\n",
      "42775/42775 [==============================] - 2s 52us/step - loss: 0.1173 - accuracy: 0.9492 - val_loss: 0.1469 - val_accuracy: 0.9364\n",
      "Epoch 95/100\n",
      "42775/42775 [==============================] - 2s 52us/step - loss: 0.1154 - accuracy: 0.9503 - val_loss: 0.1258 - val_accuracy: 0.9475\n",
      "Epoch 96/100\n",
      "42775/42775 [==============================] - 2s 51us/step - loss: 0.1148 - accuracy: 0.9514 - val_loss: 0.1206 - val_accuracy: 0.9492\n",
      "Epoch 97/100\n",
      "42775/42775 [==============================] - 2s 51us/step - loss: 0.1141 - accuracy: 0.9518 - val_loss: 0.1381 - val_accuracy: 0.9411\n",
      "Epoch 98/100\n",
      "42775/42775 [==============================] - 2s 51us/step - loss: 0.1141 - accuracy: 0.9520 - val_loss: 0.1165 - val_accuracy: 0.9491\n",
      "Epoch 99/100\n",
      "42775/42775 [==============================] - 2s 51us/step - loss: 0.1142 - accuracy: 0.9516 - val_loss: 0.1281 - val_accuracy: 0.9442\n",
      "Epoch 100/100\n",
      "42775/42775 [==============================] - 2s 51us/step - loss: 0.1133 - accuracy: 0.9514 - val_loss: 0.1380 - val_accuracy: 0.9403\n"
     ]
    },
    {
     "data": {
      "text/plain": [
       "<keras.callbacks.callbacks.History at 0x7fed3e774860>"
      ]
     },
     "execution_count": 61,
     "metadata": {
      "tags": []
     },
     "output_type": "execute_result"
    }
   ],
   "source": [
    "model2.fit(x_train_nn, y_train_nn, validation_data = (x_test_nn,y_test_nn), callbacks = [early_stop], epochs=100)"
   ]
  },
  {
   "cell_type": "code",
   "execution_count": 62,
   "metadata": {
    "colab": {},
    "colab_type": "code",
    "executionInfo": {
     "elapsed": 818,
     "status": "ok",
     "timestamp": 1593742642092,
     "user": {
      "displayName": "SHREY JAIN",
      "photoUrl": "",
      "userId": "13312361493542215859"
     },
     "user_tz": -330
    },
    "id": "rI1oFCQqcoL5"
   },
   "outputs": [],
   "source": [
    "y_pred_model2 = model2.predict_classes(x_test_nn)"
   ]
  },
  {
   "cell_type": "code",
   "execution_count": 63,
   "metadata": {
    "colab": {
     "base_uri": "https://localhost:8080/",
     "height": 51
    },
    "colab_type": "code",
    "executionInfo": {
     "elapsed": 795,
     "status": "ok",
     "timestamp": 1593742688754,
     "user": {
      "displayName": "SHREY JAIN",
      "photoUrl": "",
      "userId": "13312361493542215859"
     },
     "user_tz": -330
    },
    "id": "0rpYbzM7coJx",
    "outputId": "247ed3f1-8844-42b3-927a-e5c6b2d0a219"
   },
   "outputs": [
    {
     "data": {
      "text/plain": [
       "array([[6585,  578],\n",
       "       [ 273, 6823]])"
      ]
     },
     "execution_count": 63,
     "metadata": {
      "tags": []
     },
     "output_type": "execute_result"
    }
   ],
   "source": [
    "confusion_matrix(y_test_nn,y_pred_model2)"
   ]
  },
  {
   "cell_type": "code",
   "execution_count": 64,
   "metadata": {
    "colab": {
     "base_uri": "https://localhost:8080/",
     "height": 34
    },
    "colab_type": "code",
    "executionInfo": {
     "elapsed": 876,
     "status": "ok",
     "timestamp": 1593742706876,
     "user": {
      "displayName": "SHREY JAIN",
      "photoUrl": "",
      "userId": "13312361493542215859"
     },
     "user_tz": -330
    },
    "id": "lq-hlQuAcoGu",
    "outputId": "4c7fa457-6c89-432c-e427-2f9cab7fce0c"
   },
   "outputs": [
    {
     "data": {
      "text/plain": [
       "0.9403183953993969"
      ]
     },
     "execution_count": 64,
     "metadata": {
      "tags": []
     },
     "output_type": "execute_result"
    }
   ],
   "source": [
    "accuracy_score(y_test_nn,y_pred_model2)"
   ]
  },
  {
   "cell_type": "markdown",
   "metadata": {
    "colab_type": "text",
    "id": "ckw0HuiveyNJ"
   },
   "source": [
    "###### NEURAL NETWORKS MODEL2 GIVES US 94.0% ACCURACY"
   ]
  },
  {
   "cell_type": "markdown",
   "metadata": {
    "colab": {},
    "colab_type": "code",
    "id": "zCqL0Jind9Tj"
   },
   "source": [
    "------------------------------------------------------------------------------------------------------------------"
   ]
  },
  {
   "cell_type": "code",
   "execution_count": 65,
   "metadata": {
    "colab": {},
    "colab_type": "code",
    "executionInfo": {
     "elapsed": 854,
     "status": "ok",
     "timestamp": 1593742755414,
     "user": {
      "displayName": "SHREY JAIN",
      "photoUrl": "",
      "userId": "13312361493542215859"
     },
     "user_tz": -330
    },
    "id": "WcnZery7d9wK"
   },
   "outputs": [],
   "source": [
    "model3 = models.Sequential([\n",
    "                   layers.Dense(x_train_nn.shape[1],activation='relu',input_dim=x_train_nn.shape[1]),\n",
    "                   layers.Dense(32,activation ='relu'),\n",
    "                   layers.Dense(64,activation = 'relu'),\n",
    "                   layers.Dense(128,activation = 'relu'),\n",
    "                   layers.Dense(64,activation = 'relu'),\n",
    "                   layers.Dense(32,activation ='relu'),\n",
    "                   layers.Dense(8,activation ='relu'),\n",
    "                   layers.Dense(1,activation ='sigmoid')\n",
    "])"
   ]
  },
  {
   "cell_type": "code",
   "execution_count": 66,
   "metadata": {
    "colab": {
     "base_uri": "https://localhost:8080/",
     "height": 425
    },
    "colab_type": "code",
    "executionInfo": {
     "elapsed": 856,
     "status": "ok",
     "timestamp": 1593742762276,
     "user": {
      "displayName": "SHREY JAIN",
      "photoUrl": "",
      "userId": "13312361493542215859"
     },
     "user_tz": -330
    },
    "id": "_JlCwU8jd9t9",
    "outputId": "fa8c7787-1d7f-48ef-db78-c6bfe1d62c9c"
   },
   "outputs": [
    {
     "name": "stdout",
     "output_type": "stream",
     "text": [
      "Model: \"sequential_3\"\n",
      "_________________________________________________________________\n",
      "Layer (type)                 Output Shape              Param #   \n",
      "=================================================================\n",
      "dense_11 (Dense)             (None, 10)                110       \n",
      "_________________________________________________________________\n",
      "dense_12 (Dense)             (None, 32)                352       \n",
      "_________________________________________________________________\n",
      "dense_13 (Dense)             (None, 64)                2112      \n",
      "_________________________________________________________________\n",
      "dense_14 (Dense)             (None, 128)               8320      \n",
      "_________________________________________________________________\n",
      "dense_15 (Dense)             (None, 64)                8256      \n",
      "_________________________________________________________________\n",
      "dense_16 (Dense)             (None, 32)                2080      \n",
      "_________________________________________________________________\n",
      "dense_17 (Dense)             (None, 8)                 264       \n",
      "_________________________________________________________________\n",
      "dense_18 (Dense)             (None, 1)                 9         \n",
      "=================================================================\n",
      "Total params: 21,503\n",
      "Trainable params: 21,503\n",
      "Non-trainable params: 0\n",
      "_________________________________________________________________\n"
     ]
    }
   ],
   "source": [
    "model3.summary()"
   ]
  },
  {
   "cell_type": "code",
   "execution_count": 68,
   "metadata": {
    "colab": {},
    "colab_type": "code",
    "executionInfo": {
     "elapsed": 813,
     "status": "ok",
     "timestamp": 1593742864367,
     "user": {
      "displayName": "SHREY JAIN",
      "photoUrl": "",
      "userId": "13312361493542215859"
     },
     "user_tz": -330
    },
    "id": "LFT4UgHCd9rj"
   },
   "outputs": [],
   "source": [
    "model3.compile(optimizer='adam',loss='binary_crossentropy',metrics=['accuracy'])\n",
    "early_stop2 = EarlyStopping(patience=10)"
   ]
  },
  {
   "cell_type": "code",
   "execution_count": 69,
   "metadata": {
    "colab": {
     "base_uri": "https://localhost:8080/",
     "height": 1000
    },
    "colab_type": "code",
    "executionInfo": {
     "elapsed": 212872,
     "status": "ok",
     "timestamp": 1593743117224,
     "user": {
      "displayName": "SHREY JAIN",
      "photoUrl": "",
      "userId": "13312361493542215859"
     },
     "user_tz": -330
    },
    "id": "p9WPzU-Dd9Qa",
    "outputId": "27d6a941-2d32-4718-cbe1-29c92c5d37b4"
   },
   "outputs": [
    {
     "name": "stdout",
     "output_type": "stream",
     "text": [
      "Train on 42775 samples, validate on 14259 samples\n",
      "Epoch 1/100\n",
      "42775/42775 [==============================] - 3s 67us/step - loss: 0.4682 - accuracy: 0.7821 - val_loss: 0.3938 - val_accuracy: 0.8294\n",
      "Epoch 2/100\n",
      "42775/42775 [==============================] - 3s 66us/step - loss: 0.3548 - accuracy: 0.8360 - val_loss: 0.3182 - val_accuracy: 0.8492\n",
      "Epoch 3/100\n",
      "42775/42775 [==============================] - 3s 66us/step - loss: 0.2958 - accuracy: 0.8620 - val_loss: 0.2741 - val_accuracy: 0.8736\n",
      "Epoch 4/100\n",
      "42775/42775 [==============================] - 3s 64us/step - loss: 0.2658 - accuracy: 0.8753 - val_loss: 0.2711 - val_accuracy: 0.8726\n",
      "Epoch 5/100\n",
      "42775/42775 [==============================] - 3s 61us/step - loss: 0.2425 - accuracy: 0.8873 - val_loss: 0.2251 - val_accuracy: 0.8982\n",
      "Epoch 6/100\n",
      "42775/42775 [==============================] - 3s 61us/step - loss: 0.2257 - accuracy: 0.8965 - val_loss: 0.2541 - val_accuracy: 0.8858\n",
      "Epoch 7/100\n",
      "42775/42775 [==============================] - 3s 61us/step - loss: 0.2128 - accuracy: 0.9005 - val_loss: 0.2576 - val_accuracy: 0.8841\n",
      "Epoch 8/100\n",
      "42775/42775 [==============================] - 3s 62us/step - loss: 0.2058 - accuracy: 0.9043 - val_loss: 0.1967 - val_accuracy: 0.9084\n",
      "Epoch 9/100\n",
      "42775/42775 [==============================] - 3s 61us/step - loss: 0.2002 - accuracy: 0.9087 - val_loss: 0.2022 - val_accuracy: 0.9069\n",
      "Epoch 10/100\n",
      "42775/42775 [==============================] - 3s 61us/step - loss: 0.1932 - accuracy: 0.9106 - val_loss: 0.1842 - val_accuracy: 0.9148\n",
      "Epoch 11/100\n",
      "42775/42775 [==============================] - 3s 61us/step - loss: 0.1874 - accuracy: 0.9134 - val_loss: 0.1864 - val_accuracy: 0.9132\n",
      "Epoch 12/100\n",
      "42775/42775 [==============================] - 3s 61us/step - loss: 0.1857 - accuracy: 0.9139 - val_loss: 0.1797 - val_accuracy: 0.9167\n",
      "Epoch 13/100\n",
      "42775/42775 [==============================] - 3s 61us/step - loss: 0.1829 - accuracy: 0.9152 - val_loss: 0.1832 - val_accuracy: 0.9118\n",
      "Epoch 14/100\n",
      "42775/42775 [==============================] - 3s 61us/step - loss: 0.1769 - accuracy: 0.9193 - val_loss: 0.1981 - val_accuracy: 0.9087\n",
      "Epoch 15/100\n",
      "42775/42775 [==============================] - 3s 61us/step - loss: 0.1738 - accuracy: 0.9186 - val_loss: 0.1987 - val_accuracy: 0.9108\n",
      "Epoch 16/100\n",
      "42775/42775 [==============================] - 3s 61us/step - loss: 0.1705 - accuracy: 0.9222 - val_loss: 0.1770 - val_accuracy: 0.9182\n",
      "Epoch 17/100\n",
      "42775/42775 [==============================] - 3s 60us/step - loss: 0.1682 - accuracy: 0.9225 - val_loss: 0.1649 - val_accuracy: 0.9235\n",
      "Epoch 18/100\n",
      "42775/42775 [==============================] - 3s 61us/step - loss: 0.1660 - accuracy: 0.9235 - val_loss: 0.1702 - val_accuracy: 0.9210\n",
      "Epoch 19/100\n",
      "42775/42775 [==============================] - 3s 61us/step - loss: 0.1629 - accuracy: 0.9253 - val_loss: 0.1579 - val_accuracy: 0.9309\n",
      "Epoch 20/100\n",
      "42775/42775 [==============================] - 3s 62us/step - loss: 0.1610 - accuracy: 0.9274 - val_loss: 0.1549 - val_accuracy: 0.9301\n",
      "Epoch 21/100\n",
      "42775/42775 [==============================] - 3s 61us/step - loss: 0.1590 - accuracy: 0.9269 - val_loss: 0.1574 - val_accuracy: 0.9280\n",
      "Epoch 22/100\n",
      "42775/42775 [==============================] - 3s 61us/step - loss: 0.1556 - accuracy: 0.9295 - val_loss: 0.1588 - val_accuracy: 0.9252\n",
      "Epoch 23/100\n",
      "42775/42775 [==============================] - 3s 61us/step - loss: 0.1525 - accuracy: 0.9302 - val_loss: 0.1662 - val_accuracy: 0.9250\n",
      "Epoch 24/100\n",
      "42775/42775 [==============================] - 3s 62us/step - loss: 0.1501 - accuracy: 0.9315 - val_loss: 0.1590 - val_accuracy: 0.9294\n",
      "Epoch 25/100\n",
      "42775/42775 [==============================] - 3s 62us/step - loss: 0.1492 - accuracy: 0.9335 - val_loss: 0.1665 - val_accuracy: 0.9213\n",
      "Epoch 26/100\n",
      "42775/42775 [==============================] - 3s 61us/step - loss: 0.1475 - accuracy: 0.9325 - val_loss: 0.1546 - val_accuracy: 0.9287\n",
      "Epoch 27/100\n",
      "42775/42775 [==============================] - 3s 61us/step - loss: 0.1470 - accuracy: 0.9333 - val_loss: 0.1697 - val_accuracy: 0.9226\n",
      "Epoch 28/100\n",
      "42775/42775 [==============================] - 3s 61us/step - loss: 0.1437 - accuracy: 0.9343 - val_loss: 0.1508 - val_accuracy: 0.9320\n",
      "Epoch 29/100\n",
      "42775/42775 [==============================] - 3s 61us/step - loss: 0.1406 - accuracy: 0.9356 - val_loss: 0.1554 - val_accuracy: 0.9277\n",
      "Epoch 30/100\n",
      "42775/42775 [==============================] - 3s 61us/step - loss: 0.1391 - accuracy: 0.9368 - val_loss: 0.1458 - val_accuracy: 0.9348\n",
      "Epoch 31/100\n",
      "42775/42775 [==============================] - 3s 61us/step - loss: 0.1393 - accuracy: 0.9366 - val_loss: 0.1475 - val_accuracy: 0.9386\n",
      "Epoch 32/100\n",
      "42775/42775 [==============================] - 3s 62us/step - loss: 0.1355 - accuracy: 0.9386 - val_loss: 0.1428 - val_accuracy: 0.9365\n",
      "Epoch 33/100\n",
      "42775/42775 [==============================] - 3s 61us/step - loss: 0.1360 - accuracy: 0.9376 - val_loss: 0.1324 - val_accuracy: 0.9376\n",
      "Epoch 34/100\n",
      "42775/42775 [==============================] - 3s 61us/step - loss: 0.1322 - accuracy: 0.9411 - val_loss: 0.1790 - val_accuracy: 0.9235\n",
      "Epoch 35/100\n",
      "42775/42775 [==============================] - 3s 61us/step - loss: 0.1312 - accuracy: 0.9417 - val_loss: 0.1517 - val_accuracy: 0.9326\n",
      "Epoch 36/100\n",
      "42775/42775 [==============================] - 3s 62us/step - loss: 0.1291 - accuracy: 0.9426 - val_loss: 0.1336 - val_accuracy: 0.9407\n",
      "Epoch 37/100\n",
      "42775/42775 [==============================] - 3s 61us/step - loss: 0.1259 - accuracy: 0.9427 - val_loss: 0.1284 - val_accuracy: 0.9413\n",
      "Epoch 38/100\n",
      "42775/42775 [==============================] - 3s 61us/step - loss: 0.1266 - accuracy: 0.9434 - val_loss: 0.1374 - val_accuracy: 0.9404\n",
      "Epoch 39/100\n",
      "42775/42775 [==============================] - 3s 61us/step - loss: 0.1237 - accuracy: 0.9444 - val_loss: 0.1394 - val_accuracy: 0.9391\n",
      "Epoch 40/100\n",
      "42775/42775 [==============================] - 3s 62us/step - loss: 0.1208 - accuracy: 0.9459 - val_loss: 0.1369 - val_accuracy: 0.9384\n",
      "Epoch 41/100\n",
      "42775/42775 [==============================] - 3s 61us/step - loss: 0.1229 - accuracy: 0.9455 - val_loss: 0.1236 - val_accuracy: 0.9452\n",
      "Epoch 42/100\n",
      "42775/42775 [==============================] - 3s 61us/step - loss: 0.1182 - accuracy: 0.9477 - val_loss: 0.1326 - val_accuracy: 0.9377\n",
      "Epoch 43/100\n",
      "42775/42775 [==============================] - 3s 61us/step - loss: 0.1178 - accuracy: 0.9491 - val_loss: 0.1457 - val_accuracy: 0.9393\n",
      "Epoch 44/100\n",
      "42775/42775 [==============================] - 3s 62us/step - loss: 0.1171 - accuracy: 0.9476 - val_loss: 0.1268 - val_accuracy: 0.9407\n",
      "Epoch 45/100\n",
      "42775/42775 [==============================] - 3s 61us/step - loss: 0.1182 - accuracy: 0.9476 - val_loss: 0.1434 - val_accuracy: 0.9362\n",
      "Epoch 46/100\n",
      "42775/42775 [==============================] - 3s 61us/step - loss: 0.1142 - accuracy: 0.9497 - val_loss: 0.1291 - val_accuracy: 0.9434\n",
      "Epoch 47/100\n",
      "42775/42775 [==============================] - 3s 61us/step - loss: 0.1122 - accuracy: 0.9501 - val_loss: 0.1339 - val_accuracy: 0.9382\n",
      "Epoch 48/100\n",
      "42775/42775 [==============================] - 3s 62us/step - loss: 0.1139 - accuracy: 0.9492 - val_loss: 0.1213 - val_accuracy: 0.9463\n",
      "Epoch 49/100\n",
      "42775/42775 [==============================] - 3s 61us/step - loss: 0.1117 - accuracy: 0.9517 - val_loss: 0.1399 - val_accuracy: 0.9393\n",
      "Epoch 50/100\n",
      "42775/42775 [==============================] - 3s 61us/step - loss: 0.1077 - accuracy: 0.9538 - val_loss: 0.1188 - val_accuracy: 0.9474\n",
      "Epoch 51/100\n",
      "42775/42775 [==============================] - 3s 61us/step - loss: 0.1078 - accuracy: 0.9526 - val_loss: 0.1290 - val_accuracy: 0.9437\n",
      "Epoch 52/100\n",
      "42775/42775 [==============================] - 3s 62us/step - loss: 0.1084 - accuracy: 0.9533 - val_loss: 0.1185 - val_accuracy: 0.9478\n",
      "Epoch 53/100\n",
      "42775/42775 [==============================] - 3s 61us/step - loss: 0.1062 - accuracy: 0.9543 - val_loss: 0.1253 - val_accuracy: 0.9456\n",
      "Epoch 54/100\n",
      "42775/42775 [==============================] - 3s 61us/step - loss: 0.1058 - accuracy: 0.9540 - val_loss: 0.1289 - val_accuracy: 0.9452\n",
      "Epoch 55/100\n",
      "42775/42775 [==============================] - 3s 61us/step - loss: 0.1039 - accuracy: 0.9548 - val_loss: 0.1191 - val_accuracy: 0.9492\n",
      "Epoch 56/100\n",
      "42775/42775 [==============================] - 3s 62us/step - loss: 0.1031 - accuracy: 0.9545 - val_loss: 0.1287 - val_accuracy: 0.9442\n",
      "Epoch 57/100\n",
      "42775/42775 [==============================] - 3s 61us/step - loss: 0.1009 - accuracy: 0.9568 - val_loss: 0.1146 - val_accuracy: 0.9506\n",
      "Epoch 58/100\n",
      "42775/42775 [==============================] - 3s 61us/step - loss: 0.1016 - accuracy: 0.9565 - val_loss: 0.1122 - val_accuracy: 0.9513\n",
      "Epoch 59/100\n",
      "42775/42775 [==============================] - 3s 61us/step - loss: 0.1005 - accuracy: 0.9554 - val_loss: 0.1077 - val_accuracy: 0.9527\n",
      "Epoch 60/100\n",
      "42775/42775 [==============================] - 3s 61us/step - loss: 0.1006 - accuracy: 0.9557 - val_loss: 0.1121 - val_accuracy: 0.9515\n",
      "Epoch 61/100\n",
      "42775/42775 [==============================] - 3s 61us/step - loss: 0.1006 - accuracy: 0.9568 - val_loss: 0.1180 - val_accuracy: 0.9486\n",
      "Epoch 62/100\n",
      "42775/42775 [==============================] - 3s 61us/step - loss: 0.0973 - accuracy: 0.9582 - val_loss: 0.1494 - val_accuracy: 0.9395\n",
      "Epoch 63/100\n",
      "42775/42775 [==============================] - 3s 61us/step - loss: 0.0969 - accuracy: 0.9577 - val_loss: 0.1066 - val_accuracy: 0.9543\n",
      "Epoch 64/100\n",
      "42775/42775 [==============================] - 3s 61us/step - loss: 0.0962 - accuracy: 0.9591 - val_loss: 0.1217 - val_accuracy: 0.9474\n",
      "Epoch 65/100\n",
      "42775/42775 [==============================] - 3s 61us/step - loss: 0.0957 - accuracy: 0.9592 - val_loss: 0.1192 - val_accuracy: 0.9502\n",
      "Epoch 66/100\n",
      "42775/42775 [==============================] - 3s 61us/step - loss: 0.0930 - accuracy: 0.9606 - val_loss: 0.1284 - val_accuracy: 0.9474\n",
      "Epoch 67/100\n",
      "42775/42775 [==============================] - 3s 61us/step - loss: 0.0943 - accuracy: 0.9593 - val_loss: 0.1131 - val_accuracy: 0.9526\n",
      "Epoch 68/100\n",
      "42775/42775 [==============================] - 3s 61us/step - loss: 0.0923 - accuracy: 0.9609 - val_loss: 0.1201 - val_accuracy: 0.9513\n",
      "Epoch 69/100\n",
      "42775/42775 [==============================] - 3s 61us/step - loss: 0.0908 - accuracy: 0.9614 - val_loss: 0.1121 - val_accuracy: 0.9573\n",
      "Epoch 70/100\n",
      "42775/42775 [==============================] - 3s 61us/step - loss: 0.0894 - accuracy: 0.9620 - val_loss: 0.1028 - val_accuracy: 0.9569\n",
      "Epoch 71/100\n",
      "42775/42775 [==============================] - 3s 61us/step - loss: 0.0872 - accuracy: 0.9629 - val_loss: 0.1177 - val_accuracy: 0.9527\n",
      "Epoch 72/100\n",
      "42775/42775 [==============================] - 3s 62us/step - loss: 0.0901 - accuracy: 0.9616 - val_loss: 0.1122 - val_accuracy: 0.9543\n",
      "Epoch 73/100\n",
      "42775/42775 [==============================] - 3s 61us/step - loss: 0.0900 - accuracy: 0.9620 - val_loss: 0.1109 - val_accuracy: 0.9551\n",
      "Epoch 74/100\n",
      "42775/42775 [==============================] - 3s 61us/step - loss: 0.0872 - accuracy: 0.9625 - val_loss: 0.1035 - val_accuracy: 0.9576\n",
      "Epoch 75/100\n",
      "42775/42775 [==============================] - 3s 61us/step - loss: 0.0849 - accuracy: 0.9640 - val_loss: 0.1807 - val_accuracy: 0.9291\n",
      "Epoch 76/100\n",
      "42775/42775 [==============================] - 3s 61us/step - loss: 0.0871 - accuracy: 0.9632 - val_loss: 0.1068 - val_accuracy: 0.9582\n",
      "Epoch 77/100\n",
      "42775/42775 [==============================] - 3s 66us/step - loss: 0.0861 - accuracy: 0.9642 - val_loss: 0.1189 - val_accuracy: 0.9543\n",
      "Epoch 78/100\n",
      "42775/42775 [==============================] - 3s 67us/step - loss: 0.0844 - accuracy: 0.9644 - val_loss: 0.1160 - val_accuracy: 0.9515\n",
      "Epoch 79/100\n",
      "42775/42775 [==============================] - 3s 68us/step - loss: 0.0857 - accuracy: 0.9641 - val_loss: 0.1163 - val_accuracy: 0.9512\n",
      "Epoch 80/100\n",
      "42775/42775 [==============================] - 3s 65us/step - loss: 0.0815 - accuracy: 0.9659 - val_loss: 0.1117 - val_accuracy: 0.9559\n"
     ]
    },
    {
     "data": {
      "text/plain": [
       "<keras.callbacks.callbacks.History at 0x7fed3e383b00>"
      ]
     },
     "execution_count": 69,
     "metadata": {
      "tags": []
     },
     "output_type": "execute_result"
    }
   ],
   "source": [
    "model3.fit(x_train_nn, y_train_nn, validation_data = (x_test_nn,y_test_nn), callbacks = [early_stop2], epochs=100)"
   ]
  },
  {
   "cell_type": "code",
   "execution_count": 70,
   "metadata": {
    "colab": {},
    "colab_type": "code",
    "executionInfo": {
     "elapsed": 877,
     "status": "ok",
     "timestamp": 1593743134096,
     "user": {
      "displayName": "SHREY JAIN",
      "photoUrl": "",
      "userId": "13312361493542215859"
     },
     "user_tz": -330
    },
    "id": "oCqSlRcVd9Nv"
   },
   "outputs": [],
   "source": [
    "y_pred_model3 = model3.predict_classes(x_test_nn)"
   ]
  },
  {
   "cell_type": "code",
   "execution_count": 71,
   "metadata": {
    "colab": {
     "base_uri": "https://localhost:8080/",
     "height": 51
    },
    "colab_type": "code",
    "executionInfo": {
     "elapsed": 732,
     "status": "ok",
     "timestamp": 1593743135530,
     "user": {
      "displayName": "SHREY JAIN",
      "photoUrl": "",
      "userId": "13312361493542215859"
     },
     "user_tz": -330
    },
    "id": "J2b1JVCyevGq",
    "outputId": "6f4cd600-7989-4e89-cb2f-550a2f1fe00a"
   },
   "outputs": [
    {
     "data": {
      "text/plain": [
       "array([[6772,  391],\n",
       "       [ 238, 6858]])"
      ]
     },
     "execution_count": 71,
     "metadata": {
      "tags": []
     },
     "output_type": "execute_result"
    }
   ],
   "source": [
    "confusion_matrix(y_test_nn,y_pred_model3)"
   ]
  },
  {
   "cell_type": "code",
   "execution_count": 72,
   "metadata": {
    "colab": {
     "base_uri": "https://localhost:8080/",
     "height": 34
    },
    "colab_type": "code",
    "executionInfo": {
     "elapsed": 949,
     "status": "ok",
     "timestamp": 1593743139114,
     "user": {
      "displayName": "SHREY JAIN",
      "photoUrl": "",
      "userId": "13312361493542215859"
     },
     "user_tz": -330
    },
    "id": "AWn8_AMefWO8",
    "outputId": "d562b754-317c-43e8-a202-5ab3785bf69a"
   },
   "outputs": [
    {
     "data": {
      "text/plain": [
       "0.9558875096430325"
      ]
     },
     "execution_count": 72,
     "metadata": {
      "tags": []
     },
     "output_type": "execute_result"
    }
   ],
   "source": [
    "accuracy_score(y_test_nn,y_pred_model3)"
   ]
  },
  {
   "cell_type": "markdown",
   "metadata": {
    "colab_type": "text",
    "id": "gUw3XbTwfW6q"
   },
   "source": [
    "###### NEURAL NETWORKS MODEL3 GIVES US 95.5% ACCURACY"
   ]
  },
  {
   "cell_type": "markdown",
   "metadata": {
    "colab": {},
    "colab_type": "code",
    "id": "a-6rg4QmevDw"
   },
   "source": [
    "------------------------------------------------------------------------------------------------------------------"
   ]
  },
  {
   "cell_type": "code",
   "execution_count": 73,
   "metadata": {
    "colab": {
     "base_uri": "https://localhost:8080/",
     "height": 102
    },
    "colab_type": "code",
    "executionInfo": {
     "elapsed": 816,
     "status": "ok",
     "timestamp": 1593743381501,
     "user": {
      "displayName": "SHREY JAIN",
      "photoUrl": "",
      "userId": "13312361493542215859"
     },
     "user_tz": -330
    },
    "id": "ReKKzlJmiYsG",
    "outputId": "ff89b0d6-9595-4ae0-b162-a72980870b81"
   },
   "outputs": [
    {
     "data": {
      "text/plain": [
       "LogisticRegression(C=1.0, class_weight=None, dual=False, fit_intercept=True,\n",
       "                   intercept_scaling=1, l1_ratio=None, max_iter=500,\n",
       "                   multi_class='auto', n_jobs=None, penalty='l2',\n",
       "                   random_state=None, solver='lbfgs', tol=0.0001, verbose=0,\n",
       "                   warm_start=False)"
      ]
     },
     "execution_count": 73,
     "metadata": {
      "tags": []
     },
     "output_type": "execute_result"
    }
   ],
   "source": [
    "#LOGISTIC REGRESSION ON OVERSAMPLED SCALED DATA\n",
    "\n",
    "lg_oversampled_scaled = LogisticRegression(max_iter = 500)\n",
    "lg_oversampled_scaled.fit(x_train_nn,y_train_nn)"
   ]
  },
  {
   "cell_type": "code",
   "execution_count": 74,
   "metadata": {
    "colab": {},
    "colab_type": "code",
    "executionInfo": {
     "elapsed": 922,
     "status": "ok",
     "timestamp": 1593743395011,
     "user": {
      "displayName": "SHREY JAIN",
      "photoUrl": "",
      "userId": "13312361493542215859"
     },
     "user_tz": -330
    },
    "id": "x5PRe6Fzit_s"
   },
   "outputs": [],
   "source": [
    "y_pred_lg_oversampled_scaled = lg_oversampled_scaled.predict(x_test_nn)"
   ]
  },
  {
   "cell_type": "code",
   "execution_count": 76,
   "metadata": {
    "colab": {
     "base_uri": "https://localhost:8080/",
     "height": 51
    },
    "colab_type": "code",
    "executionInfo": {
     "elapsed": 913,
     "status": "ok",
     "timestamp": 1593743416010,
     "user": {
      "displayName": "SHREY JAIN",
      "photoUrl": "",
      "userId": "13312361493542215859"
     },
     "user_tz": -330
    },
    "id": "yo7IvF93i09I",
    "outputId": "e9265ee3-7556-446a-c249-fa4f52c42d1a"
   },
   "outputs": [
    {
     "data": {
      "text/plain": [
       "array([[5297, 1866],\n",
       "       [1370, 5726]])"
      ]
     },
     "execution_count": 76,
     "metadata": {
      "tags": []
     },
     "output_type": "execute_result"
    }
   ],
   "source": [
    "confusion_matrix(y_test_nn,y_pred_lg_oversampled_scaled)"
   ]
  },
  {
   "cell_type": "code",
   "execution_count": 77,
   "metadata": {
    "colab": {
     "base_uri": "https://localhost:8080/",
     "height": 34
    },
    "colab_type": "code",
    "executionInfo": {
     "elapsed": 974,
     "status": "ok",
     "timestamp": 1593743435061,
     "user": {
      "displayName": "SHREY JAIN",
      "photoUrl": "",
      "userId": "13312361493542215859"
     },
     "user_tz": -330
    },
    "id": "wEJHpgzjgrnf",
    "outputId": "4ee634a3-ccca-4f88-f4a3-3aae5ad609dd"
   },
   "outputs": [
    {
     "data": {
      "text/plain": [
       "0.7730556139981766"
      ]
     },
     "execution_count": 77,
     "metadata": {
      "tags": []
     },
     "output_type": "execute_result"
    }
   ],
   "source": [
    "accuracy_score(y_test_nn,y_pred_lg_oversampled_scaled)"
   ]
  },
  {
   "cell_type": "markdown",
   "metadata": {
    "colab_type": "text",
    "id": "VDLSqjeklXrm"
   },
   "source": [
    "##### LOGISTIC REGRESSION AFTER SCALING THE DATA GIVES US 77.3% ACCURACY."
   ]
  },
  {
   "cell_type": "markdown",
   "metadata": {
    "colab": {},
    "colab_type": "code",
    "id": "4fiqVX8Pgrk5"
   },
   "source": [
    "------------------------------------------------------------------------------------------------------------------"
   ]
  },
  {
   "cell_type": "code",
   "execution_count": 78,
   "metadata": {
    "colab": {
     "base_uri": "https://localhost:8080/",
     "height": 51
    },
    "colab_type": "code",
    "executionInfo": {
     "elapsed": 36696,
     "status": "ok",
     "timestamp": 1593743483684,
     "user": {
      "displayName": "SHREY JAIN",
      "photoUrl": "",
      "userId": "13312361493542215859"
     },
     "user_tz": -330
    },
    "id": "AC5f9ZDfjDPc",
    "outputId": "76e7bc63-3c1d-445d-f9c0-2be7d96b3e76"
   },
   "outputs": [
    {
     "data": {
      "text/plain": [
       "array([[6980,  183],\n",
       "       [ 831, 6265]])"
      ]
     },
     "execution_count": 78,
     "metadata": {
      "tags": []
     },
     "output_type": "execute_result"
    }
   ],
   "source": [
    "#SVC RBF KERNEL ON OVERSAMPLED SCALED DATA\n",
    "\n",
    "svc_s = SVC()\n",
    "svc_s.fit(x_train_nn,y_train_nn)\n",
    "y_pred_svc_s = svc_s.predict(x_test_nn)\n",
    "confusion_matrix(y_test_nn,y_pred_svc_s)"
   ]
  },
  {
   "cell_type": "code",
   "execution_count": 79,
   "metadata": {
    "colab": {
     "base_uri": "https://localhost:8080/",
     "height": 34
    },
    "colab_type": "code",
    "executionInfo": {
     "elapsed": 877,
     "status": "ok",
     "timestamp": 1593743529371,
     "user": {
      "displayName": "SHREY JAIN",
      "photoUrl": "",
      "userId": "13312361493542215859"
     },
     "user_tz": -330
    },
    "id": "CBCT7TIsjTJE",
    "outputId": "8d9d3534-a795-40ea-e75a-90f7402d3b32"
   },
   "outputs": [
    {
     "data": {
      "text/plain": [
       "0.9288870187250158"
      ]
     },
     "execution_count": 79,
     "metadata": {
      "tags": []
     },
     "output_type": "execute_result"
    }
   ],
   "source": [
    "accuracy_score(y_test_nn,y_pred_svc_s)"
   ]
  },
  {
   "cell_type": "markdown",
   "metadata": {
    "colab_type": "text",
    "id": "SdJ6Hl7Ellul"
   },
   "source": [
    "##### SVC AFTER SCALING THE DATA GIVES US 92.8% ACCURACY."
   ]
  },
  {
   "cell_type": "markdown",
   "metadata": {
    "colab": {},
    "colab_type": "code",
    "id": "TQK1xPLgEFyZ"
   },
   "source": [
    "------------------------------------------------------------------------------------------------------------------"
   ]
  },
  {
   "cell_type": "code",
   "execution_count": 80,
   "metadata": {
    "colab": {},
    "colab_type": "code",
    "executionInfo": {
     "elapsed": 6396,
     "status": "ok",
     "timestamp": 1593743680108,
     "user": {
      "displayName": "SHREY JAIN",
      "photoUrl": "",
      "userId": "13312361493542215859"
     },
     "user_tz": -330
    },
    "id": "lO2wQZgAESJf"
   },
   "outputs": [],
   "source": [
    "#RANDOM FOREST CLASSIFIER ON OVERSAMPLED SCALED DATA\n",
    "\n",
    "rfc_scaled = RandomForestClassifier()\n",
    "rfc_scaled.fit(x_train_nn,y_train_nn)\n",
    "y_pred_rfc_scaled = rfc_scaled.predict(x_test_nn)"
   ]
  },
  {
   "cell_type": "code",
   "execution_count": 81,
   "metadata": {
    "colab": {
     "base_uri": "https://localhost:8080/",
     "height": 51
    },
    "colab_type": "code",
    "executionInfo": {
     "elapsed": 920,
     "status": "ok",
     "timestamp": 1593743706626,
     "user": {
      "displayName": "SHREY JAIN",
      "photoUrl": "",
      "userId": "13312361493542215859"
     },
     "user_tz": -330
    },
    "id": "Bbyv8QBdhojC",
    "outputId": "2ace63d1-61b0-4ee1-8d30-8b678f67eac4"
   },
   "outputs": [
    {
     "data": {
      "text/plain": [
       "array([[7151,   12],\n",
       "       [ 139, 6957]])"
      ]
     },
     "execution_count": 81,
     "metadata": {
      "tags": []
     },
     "output_type": "execute_result"
    }
   ],
   "source": [
    "confusion_matrix(y_test_nn,y_pred_rfc_scaled)"
   ]
  },
  {
   "cell_type": "code",
   "execution_count": 82,
   "metadata": {
    "colab": {
     "base_uri": "https://localhost:8080/",
     "height": 34
    },
    "colab_type": "code",
    "executionInfo": {
     "elapsed": 1058,
     "status": "ok",
     "timestamp": 1593743721886,
     "user": {
      "displayName": "SHREY JAIN",
      "photoUrl": "",
      "userId": "13312361493542215859"
     },
     "user_tz": -330
    },
    "id": "x5t-1T43hwXm",
    "outputId": "c8a438cc-306f-41e8-9139-f315d6a5f25c"
   },
   "outputs": [
    {
     "data": {
      "text/plain": [
       "0.9894101970685182"
      ]
     },
     "execution_count": 82,
     "metadata": {
      "tags": []
     },
     "output_type": "execute_result"
    }
   ],
   "source": [
    "accuracy_score(y_test_nn,y_pred_rfc_scaled)"
   ]
  },
  {
   "cell_type": "markdown",
   "metadata": {
    "colab_type": "text",
    "id": "fVdkF1IOl2ki"
   },
   "source": [
    "##### RANDOM FOREST AFTER SCALING THE DATA GIVES US 98.9% ACCURACY."
   ]
  },
  {
   "cell_type": "markdown",
   "metadata": {
    "colab": {},
    "colab_type": "code",
    "id": "BFYcg_V_h0Df"
   },
   "source": [
    "------------------------------------------------------------------------------------------------------------------"
   ]
  },
  {
   "cell_type": "code",
   "execution_count": 84,
   "metadata": {
    "colab": {},
    "colab_type": "code",
    "executionInfo": {
     "elapsed": 1729,
     "status": "ok",
     "timestamp": 1593744118042,
     "user": {
      "displayName": "SHREY JAIN",
      "photoUrl": "",
      "userId": "13312361493542215859"
     },
     "user_tz": -330
    },
    "id": "asjPHIi6iD0o"
   },
   "outputs": [],
   "source": [
    "#NAIVE BAYES CLASSIFIER ON OVERSAMPLED SCALED DATA\n",
    "\n",
    "nbc = GaussianNB()\n",
    "nbc.fit(x_train_nn,y_train_nn)\n",
    "y_pred_nbc = nbc.predict(x_test_nn)"
   ]
  },
  {
   "cell_type": "code",
   "execution_count": 85,
   "metadata": {
    "colab": {
     "base_uri": "https://localhost:8080/",
     "height": 51
    },
    "colab_type": "code",
    "executionInfo": {
     "elapsed": 1016,
     "status": "ok",
     "timestamp": 1593744165280,
     "user": {
      "displayName": "SHREY JAIN",
      "photoUrl": "",
      "userId": "13312361493542215859"
     },
     "user_tz": -330
    },
    "id": "c0J558kqjUmK",
    "outputId": "c4e9eb4b-95ac-4185-b149-040467c479e6"
   },
   "outputs": [
    {
     "data": {
      "text/plain": [
       "array([[5229, 1934],\n",
       "       [1308, 5788]])"
      ]
     },
     "execution_count": 85,
     "metadata": {
      "tags": []
     },
     "output_type": "execute_result"
    }
   ],
   "source": [
    "confusion_matrix(y_test_nn,y_pred_nbc)"
   ]
  },
  {
   "cell_type": "code",
   "execution_count": 87,
   "metadata": {
    "colab": {
     "base_uri": "https://localhost:8080/",
     "height": 34
    },
    "colab_type": "code",
    "executionInfo": {
     "elapsed": 804,
     "status": "ok",
     "timestamp": 1593744188251,
     "user": {
      "displayName": "SHREY JAIN",
      "photoUrl": "",
      "userId": "13312361493542215859"
     },
     "user_tz": -330
    },
    "id": "ibak3OUHjgUV",
    "outputId": "16212c76-e312-4645-8fa4-e176d0257b6c"
   },
   "outputs": [
    {
     "data": {
      "text/plain": [
       "0.7726348271267269"
      ]
     },
     "execution_count": 87,
     "metadata": {
      "tags": []
     },
     "output_type": "execute_result"
    }
   ],
   "source": [
    "accuracy_score(y_test_nn,y_pred_nbc)"
   ]
  },
  {
   "cell_type": "markdown",
   "metadata": {
    "colab_type": "text",
    "id": "Q-8ijBB6kwug"
   },
   "source": [
    "##### NAIVE BAYES AFTER SCALING THE DATA GIVES US 77.2% ACCURACY."
   ]
  },
  {
   "cell_type": "markdown",
   "metadata": {
    "colab": {},
    "colab_type": "code",
    "id": "gKhomAqGjipI"
   },
   "source": [
    "------------------------------------------------------------------------------------------------------------------"
   ]
  },
  {
   "cell_type": "code",
   "execution_count": 88,
   "metadata": {
    "colab": {},
    "colab_type": "code",
    "executionInfo": {
     "elapsed": 2404,
     "status": "ok",
     "timestamp": 1593744273129,
     "user": {
      "displayName": "SHREY JAIN",
      "photoUrl": "",
      "userId": "13312361493542215859"
     },
     "user_tz": -330
    },
    "id": "DQqO_CsSjoRw"
   },
   "outputs": [],
   "source": [
    "# KNN CLASSIFIER ON OVERSAMPLED SCALED DATA\n",
    "\n",
    "knn = KNeighborsClassifier()\n",
    "knn.fit(x_train_nn,y_train_nn)\n",
    "y_pred_knn = knn.predict(x_test_nn)"
   ]
  },
  {
   "cell_type": "code",
   "execution_count": 89,
   "metadata": {
    "colab": {
     "base_uri": "https://localhost:8080/",
     "height": 51
    },
    "colab_type": "code",
    "executionInfo": {
     "elapsed": 885,
     "status": "ok",
     "timestamp": 1593744287751,
     "user": {
      "displayName": "SHREY JAIN",
      "photoUrl": "",
      "userId": "13312361493542215859"
     },
     "user_tz": -330
    },
    "id": "fdovKnzAjoN9",
    "outputId": "74af3b42-e2d6-4fb6-9770-46254e5115a2"
   },
   "outputs": [
    {
     "data": {
      "text/plain": [
       "array([[6671,  492],\n",
       "       [  35, 7061]])"
      ]
     },
     "execution_count": 89,
     "metadata": {
      "tags": []
     },
     "output_type": "execute_result"
    }
   ],
   "source": [
    "confusion_matrix(y_test_nn,y_pred_knn)"
   ]
  },
  {
   "cell_type": "code",
   "execution_count": 90,
   "metadata": {
    "colab": {
     "base_uri": "https://localhost:8080/",
     "height": 34
    },
    "colab_type": "code",
    "executionInfo": {
     "elapsed": 1095,
     "status": "ok",
     "timestamp": 1593744319746,
     "user": {
      "displayName": "SHREY JAIN",
      "photoUrl": "",
      "userId": "13312361493542215859"
     },
     "user_tz": -330
    },
    "id": "Zh3_5qKxj-QE",
    "outputId": "575979aa-e419-451e-afd8-26eb7397093e"
   },
   "outputs": [
    {
     "data": {
      "text/plain": [
       "0.9630408864576758"
      ]
     },
     "execution_count": 90,
     "metadata": {
      "tags": []
     },
     "output_type": "execute_result"
    }
   ],
   "source": [
    "accuracy_score(y_test_nn,y_pred_knn)"
   ]
  },
  {
   "cell_type": "markdown",
   "metadata": {
    "colab_type": "text",
    "id": "AoxRAObgmCwl"
   },
   "source": [
    "##### KNN CLASSIFIER AFTER SCALING THE DATA GIVES US 96.3% ACCURACY."
   ]
  },
  {
   "cell_type": "markdown",
   "metadata": {},
   "source": [
    "------------------------------------------------------------------------------------------------------------------"
   ]
  }
 ],
 "metadata": {
  "colab": {
   "authorship_tag": "ABX9TyNKoWCiQMjKdAiZnAIq59Lt",
   "collapsed_sections": [],
   "name": "heart stroke dataset.ipynb",
   "provenance": []
  },
  "kernelspec": {
   "display_name": "Python 3",
   "language": "python",
   "name": "python3"
  },
  "language_info": {
   "codemirror_mode": {
    "name": "ipython",
    "version": 3
   },
   "file_extension": ".py",
   "mimetype": "text/x-python",
   "name": "python",
   "nbconvert_exporter": "python",
   "pygments_lexer": "ipython3",
   "version": "3.7.6"
  }
 },
 "nbformat": 4,
 "nbformat_minor": 1
}
